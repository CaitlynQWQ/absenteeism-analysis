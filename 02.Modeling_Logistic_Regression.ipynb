{
 "cells": [
  {
   "cell_type": "markdown",
   "metadata": {},
   "source": [
    "# Creating a logistic regression to predict absenteeism"
   ]
  },
  {
   "cell_type": "markdown",
   "metadata": {},
   "source": [
    "## Import the relevant libraries"
   ]
  },
  {
   "cell_type": "code",
   "execution_count": 2,
   "metadata": {},
   "outputs": [],
   "source": [
    "import pandas as pd\n",
    "import numpy as np"
   ]
  },
  {
   "cell_type": "markdown",
   "metadata": {},
   "source": [
    "## Load the data"
   ]
  },
  {
   "cell_type": "code",
   "execution_count": 3,
   "metadata": {},
   "outputs": [],
   "source": [
    "data_preprocessed = pd.read_csv('Absenteeism_preprocessed_01.csv')"
   ]
  },
  {
   "cell_type": "code",
   "execution_count": 4,
   "metadata": {},
   "outputs": [
    {
     "data": {
      "application/vnd.microsoft.datawrangler.viewer.v0+json": {
       "columns": [
        {
         "name": "index",
         "rawType": "int64",
         "type": "integer"
        },
        {
         "name": "Reason_1",
         "rawType": "bool",
         "type": "boolean"
        },
        {
         "name": "Reason_2",
         "rawType": "bool",
         "type": "boolean"
        },
        {
         "name": "Reason_3",
         "rawType": "bool",
         "type": "boolean"
        },
        {
         "name": "Reason_4",
         "rawType": "bool",
         "type": "boolean"
        },
        {
         "name": "Month Value",
         "rawType": "int64",
         "type": "integer"
        },
        {
         "name": "Day of the Week",
         "rawType": "int64",
         "type": "integer"
        },
        {
         "name": "Transportation Expense",
         "rawType": "int64",
         "type": "integer"
        },
        {
         "name": "Distance to Work",
         "rawType": "int64",
         "type": "integer"
        },
        {
         "name": "Age",
         "rawType": "int64",
         "type": "integer"
        },
        {
         "name": "Daily Work Load Average",
         "rawType": "float64",
         "type": "float"
        },
        {
         "name": "Body Mass Index",
         "rawType": "int64",
         "type": "integer"
        },
        {
         "name": "Education",
         "rawType": "int64",
         "type": "integer"
        },
        {
         "name": "Children",
         "rawType": "int64",
         "type": "integer"
        },
        {
         "name": "Pets",
         "rawType": "int64",
         "type": "integer"
        },
        {
         "name": "Absenteeism Time in Hours",
         "rawType": "int64",
         "type": "integer"
        }
       ],
       "conversionMethod": "pd.DataFrame",
       "ref": "0207a410-3ef3-49f5-820b-6f79c92fd459",
       "rows": [
        [
         "0",
         "False",
         "False",
         "False",
         "True",
         "7",
         "1",
         "289",
         "36",
         "33",
         "239.554",
         "30",
         "0",
         "2",
         "1",
         "4"
        ],
        [
         "1",
         "False",
         "False",
         "False",
         "False",
         "7",
         "1",
         "118",
         "13",
         "50",
         "239.554",
         "31",
         "0",
         "1",
         "0",
         "0"
        ],
        [
         "2",
         "False",
         "False",
         "False",
         "True",
         "7",
         "2",
         "179",
         "51",
         "38",
         "239.554",
         "31",
         "0",
         "0",
         "0",
         "2"
        ],
        [
         "3",
         "True",
         "False",
         "False",
         "False",
         "7",
         "3",
         "279",
         "5",
         "39",
         "239.554",
         "24",
         "0",
         "2",
         "0",
         "4"
        ],
        [
         "4",
         "False",
         "False",
         "False",
         "True",
         "7",
         "3",
         "289",
         "36",
         "33",
         "239.554",
         "30",
         "0",
         "2",
         "1",
         "2"
        ]
       ],
       "shape": {
        "columns": 15,
        "rows": 5
       }
      },
      "text/html": [
       "<div>\n",
       "<style scoped>\n",
       "    .dataframe tbody tr th:only-of-type {\n",
       "        vertical-align: middle;\n",
       "    }\n",
       "\n",
       "    .dataframe tbody tr th {\n",
       "        vertical-align: top;\n",
       "    }\n",
       "\n",
       "    .dataframe thead th {\n",
       "        text-align: right;\n",
       "    }\n",
       "</style>\n",
       "<table border=\"1\" class=\"dataframe\">\n",
       "  <thead>\n",
       "    <tr style=\"text-align: right;\">\n",
       "      <th></th>\n",
       "      <th>Reason_1</th>\n",
       "      <th>Reason_2</th>\n",
       "      <th>Reason_3</th>\n",
       "      <th>Reason_4</th>\n",
       "      <th>Month Value</th>\n",
       "      <th>Day of the Week</th>\n",
       "      <th>Transportation Expense</th>\n",
       "      <th>Distance to Work</th>\n",
       "      <th>Age</th>\n",
       "      <th>Daily Work Load Average</th>\n",
       "      <th>Body Mass Index</th>\n",
       "      <th>Education</th>\n",
       "      <th>Children</th>\n",
       "      <th>Pets</th>\n",
       "      <th>Absenteeism Time in Hours</th>\n",
       "    </tr>\n",
       "  </thead>\n",
       "  <tbody>\n",
       "    <tr>\n",
       "      <th>0</th>\n",
       "      <td>False</td>\n",
       "      <td>False</td>\n",
       "      <td>False</td>\n",
       "      <td>True</td>\n",
       "      <td>7</td>\n",
       "      <td>1</td>\n",
       "      <td>289</td>\n",
       "      <td>36</td>\n",
       "      <td>33</td>\n",
       "      <td>239.554</td>\n",
       "      <td>30</td>\n",
       "      <td>0</td>\n",
       "      <td>2</td>\n",
       "      <td>1</td>\n",
       "      <td>4</td>\n",
       "    </tr>\n",
       "    <tr>\n",
       "      <th>1</th>\n",
       "      <td>False</td>\n",
       "      <td>False</td>\n",
       "      <td>False</td>\n",
       "      <td>False</td>\n",
       "      <td>7</td>\n",
       "      <td>1</td>\n",
       "      <td>118</td>\n",
       "      <td>13</td>\n",
       "      <td>50</td>\n",
       "      <td>239.554</td>\n",
       "      <td>31</td>\n",
       "      <td>0</td>\n",
       "      <td>1</td>\n",
       "      <td>0</td>\n",
       "      <td>0</td>\n",
       "    </tr>\n",
       "    <tr>\n",
       "      <th>2</th>\n",
       "      <td>False</td>\n",
       "      <td>False</td>\n",
       "      <td>False</td>\n",
       "      <td>True</td>\n",
       "      <td>7</td>\n",
       "      <td>2</td>\n",
       "      <td>179</td>\n",
       "      <td>51</td>\n",
       "      <td>38</td>\n",
       "      <td>239.554</td>\n",
       "      <td>31</td>\n",
       "      <td>0</td>\n",
       "      <td>0</td>\n",
       "      <td>0</td>\n",
       "      <td>2</td>\n",
       "    </tr>\n",
       "    <tr>\n",
       "      <th>3</th>\n",
       "      <td>True</td>\n",
       "      <td>False</td>\n",
       "      <td>False</td>\n",
       "      <td>False</td>\n",
       "      <td>7</td>\n",
       "      <td>3</td>\n",
       "      <td>279</td>\n",
       "      <td>5</td>\n",
       "      <td>39</td>\n",
       "      <td>239.554</td>\n",
       "      <td>24</td>\n",
       "      <td>0</td>\n",
       "      <td>2</td>\n",
       "      <td>0</td>\n",
       "      <td>4</td>\n",
       "    </tr>\n",
       "    <tr>\n",
       "      <th>4</th>\n",
       "      <td>False</td>\n",
       "      <td>False</td>\n",
       "      <td>False</td>\n",
       "      <td>True</td>\n",
       "      <td>7</td>\n",
       "      <td>3</td>\n",
       "      <td>289</td>\n",
       "      <td>36</td>\n",
       "      <td>33</td>\n",
       "      <td>239.554</td>\n",
       "      <td>30</td>\n",
       "      <td>0</td>\n",
       "      <td>2</td>\n",
       "      <td>1</td>\n",
       "      <td>2</td>\n",
       "    </tr>\n",
       "  </tbody>\n",
       "</table>\n",
       "</div>"
      ],
      "text/plain": [
       "   Reason_1  Reason_2  Reason_3  Reason_4  Month Value  Day of the Week  \\\n",
       "0     False     False     False      True            7                1   \n",
       "1     False     False     False     False            7                1   \n",
       "2     False     False     False      True            7                2   \n",
       "3      True     False     False     False            7                3   \n",
       "4     False     False     False      True            7                3   \n",
       "\n",
       "   Transportation Expense  Distance to Work  Age  Daily Work Load Average  \\\n",
       "0                     289                36   33                  239.554   \n",
       "1                     118                13   50                  239.554   \n",
       "2                     179                51   38                  239.554   \n",
       "3                     279                 5   39                  239.554   \n",
       "4                     289                36   33                  239.554   \n",
       "\n",
       "   Body Mass Index  Education  Children  Pets  Absenteeism Time in Hours  \n",
       "0               30          0         2     1                          4  \n",
       "1               31          0         1     0                          0  \n",
       "2               31          0         0     0                          2  \n",
       "3               24          0         2     0                          4  \n",
       "4               30          0         2     1                          2  "
      ]
     },
     "execution_count": 4,
     "metadata": {},
     "output_type": "execute_result"
    }
   ],
   "source": [
    "data_preprocessed.head()"
   ]
  },
  {
   "cell_type": "markdown",
   "metadata": {},
   "source": [
    "## Create the targets"
   ]
  },
  {
   "cell_type": "code",
   "execution_count": 5,
   "metadata": {},
   "outputs": [
    {
     "data": {
      "text/plain": [
       "3.0"
      ]
     },
     "execution_count": 5,
     "metadata": {},
     "output_type": "execute_result"
    }
   ],
   "source": [
    "data_preprocessed['Absenteeism Time in Hours'].median()"
   ]
  },
  {
   "cell_type": "code",
   "execution_count": 6,
   "metadata": {},
   "outputs": [],
   "source": [
    "targets = np.where(data_preprocessed['Absenteeism Time in Hours'] > \n",
    "                   data_preprocessed['Absenteeism Time in Hours'].median(), 1, 0)"
   ]
  },
  {
   "cell_type": "code",
   "execution_count": 7,
   "metadata": {},
   "outputs": [],
   "source": [
    "data_preprocessed['Excessive Absenteeism'] = targets"
   ]
  },
  {
   "cell_type": "code",
   "execution_count": 8,
   "metadata": {},
   "outputs": [
    {
     "data": {
      "application/vnd.microsoft.datawrangler.viewer.v0+json": {
       "columns": [
        {
         "name": "index",
         "rawType": "int64",
         "type": "integer"
        },
        {
         "name": "Reason_1",
         "rawType": "bool",
         "type": "boolean"
        },
        {
         "name": "Reason_2",
         "rawType": "bool",
         "type": "boolean"
        },
        {
         "name": "Reason_3",
         "rawType": "bool",
         "type": "boolean"
        },
        {
         "name": "Reason_4",
         "rawType": "bool",
         "type": "boolean"
        },
        {
         "name": "Month Value",
         "rawType": "int64",
         "type": "integer"
        },
        {
         "name": "Day of the Week",
         "rawType": "int64",
         "type": "integer"
        },
        {
         "name": "Transportation Expense",
         "rawType": "int64",
         "type": "integer"
        },
        {
         "name": "Distance to Work",
         "rawType": "int64",
         "type": "integer"
        },
        {
         "name": "Age",
         "rawType": "int64",
         "type": "integer"
        },
        {
         "name": "Daily Work Load Average",
         "rawType": "float64",
         "type": "float"
        },
        {
         "name": "Body Mass Index",
         "rawType": "int64",
         "type": "integer"
        },
        {
         "name": "Education",
         "rawType": "int64",
         "type": "integer"
        },
        {
         "name": "Children",
         "rawType": "int64",
         "type": "integer"
        },
        {
         "name": "Pets",
         "rawType": "int64",
         "type": "integer"
        },
        {
         "name": "Absenteeism Time in Hours",
         "rawType": "int64",
         "type": "integer"
        },
        {
         "name": "Excessive Absenteeism",
         "rawType": "int32",
         "type": "integer"
        }
       ],
       "conversionMethod": "pd.DataFrame",
       "ref": "758d4a5b-05e4-4908-b69c-001852fa0af5",
       "rows": [
        [
         "0",
         "False",
         "False",
         "False",
         "True",
         "7",
         "1",
         "289",
         "36",
         "33",
         "239.554",
         "30",
         "0",
         "2",
         "1",
         "4",
         "1"
        ],
        [
         "1",
         "False",
         "False",
         "False",
         "False",
         "7",
         "1",
         "118",
         "13",
         "50",
         "239.554",
         "31",
         "0",
         "1",
         "0",
         "0",
         "0"
        ],
        [
         "2",
         "False",
         "False",
         "False",
         "True",
         "7",
         "2",
         "179",
         "51",
         "38",
         "239.554",
         "31",
         "0",
         "0",
         "0",
         "2",
         "0"
        ],
        [
         "3",
         "True",
         "False",
         "False",
         "False",
         "7",
         "3",
         "279",
         "5",
         "39",
         "239.554",
         "24",
         "0",
         "2",
         "0",
         "4",
         "1"
        ],
        [
         "4",
         "False",
         "False",
         "False",
         "True",
         "7",
         "3",
         "289",
         "36",
         "33",
         "239.554",
         "30",
         "0",
         "2",
         "1",
         "2",
         "0"
        ]
       ],
       "shape": {
        "columns": 16,
        "rows": 5
       }
      },
      "text/html": [
       "<div>\n",
       "<style scoped>\n",
       "    .dataframe tbody tr th:only-of-type {\n",
       "        vertical-align: middle;\n",
       "    }\n",
       "\n",
       "    .dataframe tbody tr th {\n",
       "        vertical-align: top;\n",
       "    }\n",
       "\n",
       "    .dataframe thead th {\n",
       "        text-align: right;\n",
       "    }\n",
       "</style>\n",
       "<table border=\"1\" class=\"dataframe\">\n",
       "  <thead>\n",
       "    <tr style=\"text-align: right;\">\n",
       "      <th></th>\n",
       "      <th>Reason_1</th>\n",
       "      <th>Reason_2</th>\n",
       "      <th>Reason_3</th>\n",
       "      <th>Reason_4</th>\n",
       "      <th>Month Value</th>\n",
       "      <th>Day of the Week</th>\n",
       "      <th>Transportation Expense</th>\n",
       "      <th>Distance to Work</th>\n",
       "      <th>Age</th>\n",
       "      <th>Daily Work Load Average</th>\n",
       "      <th>Body Mass Index</th>\n",
       "      <th>Education</th>\n",
       "      <th>Children</th>\n",
       "      <th>Pets</th>\n",
       "      <th>Absenteeism Time in Hours</th>\n",
       "      <th>Excessive Absenteeism</th>\n",
       "    </tr>\n",
       "  </thead>\n",
       "  <tbody>\n",
       "    <tr>\n",
       "      <th>0</th>\n",
       "      <td>False</td>\n",
       "      <td>False</td>\n",
       "      <td>False</td>\n",
       "      <td>True</td>\n",
       "      <td>7</td>\n",
       "      <td>1</td>\n",
       "      <td>289</td>\n",
       "      <td>36</td>\n",
       "      <td>33</td>\n",
       "      <td>239.554</td>\n",
       "      <td>30</td>\n",
       "      <td>0</td>\n",
       "      <td>2</td>\n",
       "      <td>1</td>\n",
       "      <td>4</td>\n",
       "      <td>1</td>\n",
       "    </tr>\n",
       "    <tr>\n",
       "      <th>1</th>\n",
       "      <td>False</td>\n",
       "      <td>False</td>\n",
       "      <td>False</td>\n",
       "      <td>False</td>\n",
       "      <td>7</td>\n",
       "      <td>1</td>\n",
       "      <td>118</td>\n",
       "      <td>13</td>\n",
       "      <td>50</td>\n",
       "      <td>239.554</td>\n",
       "      <td>31</td>\n",
       "      <td>0</td>\n",
       "      <td>1</td>\n",
       "      <td>0</td>\n",
       "      <td>0</td>\n",
       "      <td>0</td>\n",
       "    </tr>\n",
       "    <tr>\n",
       "      <th>2</th>\n",
       "      <td>False</td>\n",
       "      <td>False</td>\n",
       "      <td>False</td>\n",
       "      <td>True</td>\n",
       "      <td>7</td>\n",
       "      <td>2</td>\n",
       "      <td>179</td>\n",
       "      <td>51</td>\n",
       "      <td>38</td>\n",
       "      <td>239.554</td>\n",
       "      <td>31</td>\n",
       "      <td>0</td>\n",
       "      <td>0</td>\n",
       "      <td>0</td>\n",
       "      <td>2</td>\n",
       "      <td>0</td>\n",
       "    </tr>\n",
       "    <tr>\n",
       "      <th>3</th>\n",
       "      <td>True</td>\n",
       "      <td>False</td>\n",
       "      <td>False</td>\n",
       "      <td>False</td>\n",
       "      <td>7</td>\n",
       "      <td>3</td>\n",
       "      <td>279</td>\n",
       "      <td>5</td>\n",
       "      <td>39</td>\n",
       "      <td>239.554</td>\n",
       "      <td>24</td>\n",
       "      <td>0</td>\n",
       "      <td>2</td>\n",
       "      <td>0</td>\n",
       "      <td>4</td>\n",
       "      <td>1</td>\n",
       "    </tr>\n",
       "    <tr>\n",
       "      <th>4</th>\n",
       "      <td>False</td>\n",
       "      <td>False</td>\n",
       "      <td>False</td>\n",
       "      <td>True</td>\n",
       "      <td>7</td>\n",
       "      <td>3</td>\n",
       "      <td>289</td>\n",
       "      <td>36</td>\n",
       "      <td>33</td>\n",
       "      <td>239.554</td>\n",
       "      <td>30</td>\n",
       "      <td>0</td>\n",
       "      <td>2</td>\n",
       "      <td>1</td>\n",
       "      <td>2</td>\n",
       "      <td>0</td>\n",
       "    </tr>\n",
       "  </tbody>\n",
       "</table>\n",
       "</div>"
      ],
      "text/plain": [
       "   Reason_1  Reason_2  Reason_3  Reason_4  Month Value  Day of the Week  \\\n",
       "0     False     False     False      True            7                1   \n",
       "1     False     False     False     False            7                1   \n",
       "2     False     False     False      True            7                2   \n",
       "3      True     False     False     False            7                3   \n",
       "4     False     False     False      True            7                3   \n",
       "\n",
       "   Transportation Expense  Distance to Work  Age  Daily Work Load Average  \\\n",
       "0                     289                36   33                  239.554   \n",
       "1                     118                13   50                  239.554   \n",
       "2                     179                51   38                  239.554   \n",
       "3                     279                 5   39                  239.554   \n",
       "4                     289                36   33                  239.554   \n",
       "\n",
       "   Body Mass Index  Education  Children  Pets  Absenteeism Time in Hours  \\\n",
       "0               30          0         2     1                          4   \n",
       "1               31          0         1     0                          0   \n",
       "2               31          0         0     0                          2   \n",
       "3               24          0         2     0                          4   \n",
       "4               30          0         2     1                          2   \n",
       "\n",
       "   Excessive Absenteeism  \n",
       "0                      1  \n",
       "1                      0  \n",
       "2                      0  \n",
       "3                      1  \n",
       "4                      0  "
      ]
     },
     "execution_count": 8,
     "metadata": {},
     "output_type": "execute_result"
    }
   ],
   "source": [
    "data_preprocessed.head()"
   ]
  },
  {
   "cell_type": "markdown",
   "metadata": {},
   "source": [
    "## A comment on the targets"
   ]
  },
  {
   "cell_type": "code",
   "execution_count": 9,
   "metadata": {},
   "outputs": [
    {
     "data": {
      "text/plain": [
       "0.45571428571428574"
      ]
     },
     "execution_count": 9,
     "metadata": {},
     "output_type": "execute_result"
    }
   ],
   "source": [
    "targets.sum() / targets.shape[0]"
   ]
  },
  {
   "cell_type": "code",
   "execution_count": 10,
   "metadata": {},
   "outputs": [],
   "source": [
    "data_with_targets = data_preprocessed.drop(['Absenteeism Time in Hours','Day of the Week',\n",
    "                                            'Daily Work Load Average','Distance to Work'],axis=1)"
   ]
  },
  {
   "cell_type": "code",
   "execution_count": 11,
   "metadata": {},
   "outputs": [
    {
     "data": {
      "application/vnd.microsoft.datawrangler.viewer.v0+json": {
       "columns": [
        {
         "name": "index",
         "rawType": "int64",
         "type": "integer"
        },
        {
         "name": "Reason_1",
         "rawType": "bool",
         "type": "boolean"
        },
        {
         "name": "Reason_2",
         "rawType": "bool",
         "type": "boolean"
        },
        {
         "name": "Reason_3",
         "rawType": "bool",
         "type": "boolean"
        },
        {
         "name": "Reason_4",
         "rawType": "bool",
         "type": "boolean"
        },
        {
         "name": "Month Value",
         "rawType": "int64",
         "type": "integer"
        },
        {
         "name": "Transportation Expense",
         "rawType": "int64",
         "type": "integer"
        },
        {
         "name": "Age",
         "rawType": "int64",
         "type": "integer"
        },
        {
         "name": "Body Mass Index",
         "rawType": "int64",
         "type": "integer"
        },
        {
         "name": "Education",
         "rawType": "int64",
         "type": "integer"
        },
        {
         "name": "Children",
         "rawType": "int64",
         "type": "integer"
        },
        {
         "name": "Pets",
         "rawType": "int64",
         "type": "integer"
        },
        {
         "name": "Excessive Absenteeism",
         "rawType": "int32",
         "type": "integer"
        }
       ],
       "conversionMethod": "pd.DataFrame",
       "ref": "d048e55d-1c96-4d6f-86e6-18410ce04cf8",
       "rows": [
        [
         "0",
         "False",
         "False",
         "False",
         "True",
         "7",
         "289",
         "33",
         "30",
         "0",
         "2",
         "1",
         "1"
        ],
        [
         "1",
         "False",
         "False",
         "False",
         "False",
         "7",
         "118",
         "50",
         "31",
         "0",
         "1",
         "0",
         "0"
        ],
        [
         "2",
         "False",
         "False",
         "False",
         "True",
         "7",
         "179",
         "38",
         "31",
         "0",
         "0",
         "0",
         "0"
        ],
        [
         "3",
         "True",
         "False",
         "False",
         "False",
         "7",
         "279",
         "39",
         "24",
         "0",
         "2",
         "0",
         "1"
        ],
        [
         "4",
         "False",
         "False",
         "False",
         "True",
         "7",
         "289",
         "33",
         "30",
         "0",
         "2",
         "1",
         "0"
        ]
       ],
       "shape": {
        "columns": 12,
        "rows": 5
       }
      },
      "text/html": [
       "<div>\n",
       "<style scoped>\n",
       "    .dataframe tbody tr th:only-of-type {\n",
       "        vertical-align: middle;\n",
       "    }\n",
       "\n",
       "    .dataframe tbody tr th {\n",
       "        vertical-align: top;\n",
       "    }\n",
       "\n",
       "    .dataframe thead th {\n",
       "        text-align: right;\n",
       "    }\n",
       "</style>\n",
       "<table border=\"1\" class=\"dataframe\">\n",
       "  <thead>\n",
       "    <tr style=\"text-align: right;\">\n",
       "      <th></th>\n",
       "      <th>Reason_1</th>\n",
       "      <th>Reason_2</th>\n",
       "      <th>Reason_3</th>\n",
       "      <th>Reason_4</th>\n",
       "      <th>Month Value</th>\n",
       "      <th>Transportation Expense</th>\n",
       "      <th>Age</th>\n",
       "      <th>Body Mass Index</th>\n",
       "      <th>Education</th>\n",
       "      <th>Children</th>\n",
       "      <th>Pets</th>\n",
       "      <th>Excessive Absenteeism</th>\n",
       "    </tr>\n",
       "  </thead>\n",
       "  <tbody>\n",
       "    <tr>\n",
       "      <th>0</th>\n",
       "      <td>False</td>\n",
       "      <td>False</td>\n",
       "      <td>False</td>\n",
       "      <td>True</td>\n",
       "      <td>7</td>\n",
       "      <td>289</td>\n",
       "      <td>33</td>\n",
       "      <td>30</td>\n",
       "      <td>0</td>\n",
       "      <td>2</td>\n",
       "      <td>1</td>\n",
       "      <td>1</td>\n",
       "    </tr>\n",
       "    <tr>\n",
       "      <th>1</th>\n",
       "      <td>False</td>\n",
       "      <td>False</td>\n",
       "      <td>False</td>\n",
       "      <td>False</td>\n",
       "      <td>7</td>\n",
       "      <td>118</td>\n",
       "      <td>50</td>\n",
       "      <td>31</td>\n",
       "      <td>0</td>\n",
       "      <td>1</td>\n",
       "      <td>0</td>\n",
       "      <td>0</td>\n",
       "    </tr>\n",
       "    <tr>\n",
       "      <th>2</th>\n",
       "      <td>False</td>\n",
       "      <td>False</td>\n",
       "      <td>False</td>\n",
       "      <td>True</td>\n",
       "      <td>7</td>\n",
       "      <td>179</td>\n",
       "      <td>38</td>\n",
       "      <td>31</td>\n",
       "      <td>0</td>\n",
       "      <td>0</td>\n",
       "      <td>0</td>\n",
       "      <td>0</td>\n",
       "    </tr>\n",
       "    <tr>\n",
       "      <th>3</th>\n",
       "      <td>True</td>\n",
       "      <td>False</td>\n",
       "      <td>False</td>\n",
       "      <td>False</td>\n",
       "      <td>7</td>\n",
       "      <td>279</td>\n",
       "      <td>39</td>\n",
       "      <td>24</td>\n",
       "      <td>0</td>\n",
       "      <td>2</td>\n",
       "      <td>0</td>\n",
       "      <td>1</td>\n",
       "    </tr>\n",
       "    <tr>\n",
       "      <th>4</th>\n",
       "      <td>False</td>\n",
       "      <td>False</td>\n",
       "      <td>False</td>\n",
       "      <td>True</td>\n",
       "      <td>7</td>\n",
       "      <td>289</td>\n",
       "      <td>33</td>\n",
       "      <td>30</td>\n",
       "      <td>0</td>\n",
       "      <td>2</td>\n",
       "      <td>1</td>\n",
       "      <td>0</td>\n",
       "    </tr>\n",
       "  </tbody>\n",
       "</table>\n",
       "</div>"
      ],
      "text/plain": [
       "   Reason_1  Reason_2  Reason_3  Reason_4  Month Value  \\\n",
       "0     False     False     False      True            7   \n",
       "1     False     False     False     False            7   \n",
       "2     False     False     False      True            7   \n",
       "3      True     False     False     False            7   \n",
       "4     False     False     False      True            7   \n",
       "\n",
       "   Transportation Expense  Age  Body Mass Index  Education  Children  Pets  \\\n",
       "0                     289   33               30          0         2     1   \n",
       "1                     118   50               31          0         1     0   \n",
       "2                     179   38               31          0         0     0   \n",
       "3                     279   39               24          0         2     0   \n",
       "4                     289   33               30          0         2     1   \n",
       "\n",
       "   Excessive Absenteeism  \n",
       "0                      1  \n",
       "1                      0  \n",
       "2                      0  \n",
       "3                      1  \n",
       "4                      0  "
      ]
     },
     "execution_count": 11,
     "metadata": {},
     "output_type": "execute_result"
    }
   ],
   "source": [
    "data_with_targets.head()"
   ]
  },
  {
   "cell_type": "markdown",
   "metadata": {},
   "source": [
    "## Select the inputs for the regression"
   ]
  },
  {
   "cell_type": "code",
   "execution_count": 12,
   "metadata": {},
   "outputs": [],
   "source": [
    "unscaled_inputs = data_with_targets.iloc[:,:-1]"
   ]
  },
  {
   "cell_type": "code",
   "execution_count": 15,
   "metadata": {},
   "outputs": [
    {
     "data": {
      "text/plain": [
       "array(['Reason_1', 'Reason_2', 'Reason_3', 'Reason_4', 'Month Value',\n",
       "       'Transportation Expense', 'Age', 'Body Mass Index', 'Education',\n",
       "       'Children', 'Pets'], dtype=object)"
      ]
     },
     "execution_count": 15,
     "metadata": {},
     "output_type": "execute_result"
    }
   ],
   "source": [
    "unscaled_inputs.columns.values"
   ]
  },
  {
   "cell_type": "markdown",
   "metadata": {},
   "source": [
    "## Standardize the data"
   ]
  },
  {
   "cell_type": "code",
   "execution_count": 13,
   "metadata": {},
   "outputs": [],
   "source": [
    "from sklearn.preprocessing import StandardScaler\n",
    "\n",
    "absenteeism_scaler = StandardScaler()"
   ]
  },
  {
   "cell_type": "code",
   "execution_count": 19,
   "metadata": {},
   "outputs": [],
   "source": [
    "from sklearn.base import BaseEstimator, TransformerMixin\n",
    "from sklearn.preprocessing import StandardScaler\n",
    "\n",
    "class CustomScaler(BaseEstimator,TransformerMixin): \n",
    "    \n",
    "    def __init__(self,columns,copy=True,with_mean=True,with_std=True):\n",
    "        # self.scaler = StandardScaler(copy,with_mean,with_std)\n",
    "        self.scaler = StandardScaler(copy=copy, with_mean=with_mean, with_std=with_std)\n",
    "        self.columns = columns\n",
    "        self.mean_ = None\n",
    "        self.var_ = None\n",
    "\n",
    "    def fit(self, X, y=None):\n",
    "        self.scaler.fit(X[self.columns], y)\n",
    "        self.mean_ = np.mean(X[self.columns])\n",
    "        self.var_ = np.var(X[self.columns])\n",
    "        return self\n",
    "\n",
    "    def transform(self, X, y=None, copy=None):\n",
    "        init_col_order = X.columns\n",
    "        X_scaled = pd.DataFrame(self.scaler.transform(X[self.columns]), columns=self.columns)\n",
    "        X_not_scaled = X.loc[:,~X.columns.isin(self.columns)]\n",
    "        return pd.concat([X_not_scaled, X_scaled], axis=1)[init_col_order]"
   ]
  },
  {
   "cell_type": "code",
   "execution_count": 20,
   "metadata": {},
   "outputs": [],
   "source": [
    "#columns_to_scale = ['Month Value','Day of the Week', 'Transportation Expense', 'Distance to Work',\n",
    "       #'Age', 'Daily Work Load Average', 'Body Mass Index', 'Children', 'Pet']\n",
    "\n",
    "columns_to_omit = ['Reason_1', 'Reason_2', 'Reason_3', 'Reason_4','Education']"
   ]
  },
  {
   "cell_type": "code",
   "execution_count": 21,
   "metadata": {},
   "outputs": [],
   "source": [
    "columns_to_scale = [x for x in unscaled_inputs.columns.values if x not in columns_to_omit]"
   ]
  },
  {
   "cell_type": "code",
   "execution_count": 22,
   "metadata": {},
   "outputs": [],
   "source": [
    "absenteeism_scaler = CustomScaler(columns = columns_to_scale, copy=True,with_mean=True,with_std=True)"
   ]
  },
  {
   "cell_type": "code",
   "execution_count": 58,
   "metadata": {},
   "outputs": [
    {
     "name": "stderr",
     "output_type": "stream",
     "text": [
      "d:\\Download\\archive\\Anacond\\Lib\\site-packages\\numpy\\core\\fromnumeric.py:3785: FutureWarning: The behavior of DataFrame.var with axis=None is deprecated, in a future version this will reduce over both axes and return a scalar. To retain the old behavior, pass axis=0 (or do not pass axis)\n",
      "  return var(axis=axis, dtype=dtype, out=out, ddof=ddof, **kwargs)\n"
     ]
    }
   ],
   "source": [
    "absenteeism_scaler.fit(unscaled_inputs);"
   ]
  },
  {
   "cell_type": "code",
   "execution_count": 59,
   "metadata": {},
   "outputs": [],
   "source": [
    "scaled_inputs = absenteeism_scaler.transform(unscaled_inputs)"
   ]
  },
  {
   "cell_type": "code",
   "execution_count": 60,
   "metadata": {
    "scrolled": true
   },
   "outputs": [
    {
     "data": {
      "application/vnd.microsoft.datawrangler.viewer.v0+json": {
       "columns": [
        {
         "name": "index",
         "rawType": "int64",
         "type": "integer"
        },
        {
         "name": "Reason_1",
         "rawType": "bool",
         "type": "boolean"
        },
        {
         "name": "Reason_2",
         "rawType": "bool",
         "type": "boolean"
        },
        {
         "name": "Reason_3",
         "rawType": "bool",
         "type": "boolean"
        },
        {
         "name": "Reason_4",
         "rawType": "bool",
         "type": "boolean"
        },
        {
         "name": "Month Value",
         "rawType": "float64",
         "type": "float"
        },
        {
         "name": "Transportation Expense",
         "rawType": "float64",
         "type": "float"
        },
        {
         "name": "Age",
         "rawType": "float64",
         "type": "float"
        },
        {
         "name": "Body Mass Index",
         "rawType": "float64",
         "type": "float"
        },
        {
         "name": "Education",
         "rawType": "int64",
         "type": "integer"
        },
        {
         "name": "Children",
         "rawType": "float64",
         "type": "float"
        },
        {
         "name": "Pets",
         "rawType": "float64",
         "type": "float"
        }
       ],
       "conversionMethod": "pd.DataFrame",
       "ref": "8bd44c39-4a69-42dd-8f44-79759dd018f1",
       "rows": [
        [
         "0",
         "False",
         "False",
         "False",
         "True",
         "0.18272635120586733",
         "1.0058443707754152",
         "-0.5360623885302863",
         "0.7674311803407343",
         "0",
         "0.8804692708322822",
         "0.2684866056096575"
        ],
        [
         "1",
         "False",
         "False",
         "False",
         "False",
         "0.18272635120586733",
         "-1.5746809776571293",
         "2.1308031731379447",
         "1.0026333809705565",
         "0",
         "-0.01928034899632728",
         "-0.5896897593527181"
        ],
        [
         "2",
         "False",
         "False",
         "False",
         "True",
         "0.18272635120586733",
         "-0.6541426954677421",
         "0.24830983548978164",
         "1.0026333809705565",
         "0",
         "-0.9190299688249368",
         "-0.5896897593527181"
        ],
        [
         "3",
         "True",
         "False",
         "False",
         "False",
         "0.18272635120586733",
         "0.854936455662401",
         "0.4051842802937953",
         "-0.643782023438199",
         "0",
         "0.8804692708322822",
         "-0.5896897593527181"
        ],
        [
         "4",
         "False",
         "False",
         "False",
         "True",
         "0.18272635120586733",
         "1.0058443707754152",
         "-0.5360623885302863",
         "0.7674311803407343",
         "0",
         "0.8804692708322822",
         "0.2684866056096575"
        ],
        [
         "5",
         "False",
         "False",
         "False",
         "True",
         "0.18272635120586733",
         "-0.6541426954677421",
         "0.24830983548978164",
         "1.0026333809705565",
         "0",
         "-0.9190299688249368",
         "-0.5896897593527181"
        ],
        [
         "6",
         "False",
         "False",
         "False",
         "True",
         "0.18272635120586733",
         "2.092381359589118",
         "-1.3204346125503543",
         "0.061824578451267674",
         "0",
         "-0.01928034899632728",
         "2.843015700496784"
        ],
        [
         "7",
         "False",
         "False",
         "False",
         "True",
         "0.18272635120586733",
         "0.5682114169476737",
         "-0.06543905411824555",
         "-0.8789842240680212",
         "0",
         "2.6799685104895015",
         "-0.5896897593527181"
        ],
        [
         "8",
         "False",
         "False",
         "True",
         "False",
         "0.18272635120586733",
         "-1.0163216917389764",
         "-0.37918794372627274",
         "-0.4085798228083768",
         "0",
         "0.8804692708322822",
         "-0.5896897593527181"
        ],
        [
         "9",
         "False",
         "False",
         "False",
         "True",
         "0.18272635120586733",
         "0.19094162916513804",
         "0.09143539068576804",
         "0.5322289797109121",
         "1",
         "-0.01928034899632728",
         "0.2684866056096575"
        ],
        [
         "10",
         "True",
         "False",
         "False",
         "False",
         "0.18272635120586733",
         "0.5682114169476737",
         "-0.06543905411824555",
         "-0.8789842240680212",
         "0",
         "2.6799685104895015",
         "-0.5896897593527181"
        ],
        [
         "11",
         "True",
         "False",
         "False",
         "False",
         "0.18272635120586733",
         "0.5682114169476737",
         "-0.06543905411824555",
         "-0.8789842240680212",
         "0",
         "2.6799685104895015",
         "-0.5896897593527181"
        ],
        [
         "12",
         "True",
         "False",
         "False",
         "False",
         "0.18272635120586733",
         "0.5682114169476737",
         "-0.06543905411824555",
         "-0.8789842240680212",
         "0",
         "2.6799685104895015",
         "-0.5896897593527181"
        ],
        [
         "13",
         "True",
         "False",
         "False",
         "False",
         "0.18272635120586733",
         "-0.6541426954677421",
         "0.24830983548978164",
         "1.0026333809705565",
         "0",
         "-0.9190299688249368",
         "-0.5896897593527181"
        ],
        [
         "14",
         "False",
         "False",
         "False",
         "True",
         "0.18272635120586733",
         "-0.6541426954677421",
         "0.24830983548978164",
         "1.0026333809705565",
         "0",
         "-0.9190299688249368",
         "-0.5896897593527181"
        ],
        [
         "15",
         "True",
         "False",
         "False",
         "False",
         "0.18272635120586733",
         "0.3569403357894538",
         "0.7189331699018224",
         "-0.8789842240680212",
         "0",
         "-0.9190299688249368",
         "-0.5896897593527181"
        ],
        [
         "16",
         "False",
         "False",
         "False",
         "True",
         "0.18272635120586733",
         "-0.6541426954677421",
         "0.24830983548978164",
         "1.0026333809705565",
         "0",
         "-0.9190299688249368",
         "-0.5896897593527181"
        ],
        [
         "17",
         "False",
         "False",
         "True",
         "False",
         "0.18272635120586733",
         "-0.6541426954677421",
         "0.24830983548978164",
         "1.0026333809705565",
         "0",
         "-0.9190299688249368",
         "-0.5896897593527181"
        ],
        [
         "18",
         "True",
         "False",
         "False",
         "False",
         "0.18272635120586733",
         "-0.5032347803547277",
         "-0.5360623885302863",
         "-0.4085798228083768",
         "0",
         "0.8804692708322822",
         "1.126662970572033"
        ],
        [
         "19",
         "False",
         "False",
         "False",
         "True",
         "0.4682362749650352",
         "0.38712191881205665",
         "1.6601798387259041",
         "1.2378355816003788",
         "0",
         "0.8804692708322822",
         "0.2684866056096575"
        ],
        [
         "20",
         "True",
         "False",
         "False",
         "False",
         "0.4682362749650352",
         "1.624566822738774",
         "-1.3204346125503543",
         "-0.4085798228083768",
         "1",
         "-0.9190299688249368",
         "-0.5896897593527181"
        ],
        [
         "21",
         "True",
         "False",
         "False",
         "False",
         "0.4682362749650352",
         "-0.6541426954677421",
         "0.24830983548978164",
         "1.0026333809705565",
         "0",
         "-0.9190299688249368",
         "-0.5896897593527181"
        ],
        [
         "22",
         "True",
         "False",
         "False",
         "False",
         "0.4682362749650352",
         "2.092381359589118",
         "-1.3204346125503543",
         "0.061824578451267674",
         "0",
         "-0.01928034899632728",
         "2.843015700496784"
        ],
        [
         "23",
         "False",
         "False",
         "False",
         "True",
         "0.4682362749650352",
         "0.5682114169476737",
         "-0.06543905411824555",
         "-0.8789842240680212",
         "0",
         "2.6799685104895015",
         "-0.5896897593527181"
        ],
        [
         "24",
         "False",
         "False",
         "True",
         "False",
         "0.4682362749650352",
         "1.0058443707754152",
         "-0.5360623885302863",
         "0.7674311803407343",
         "0",
         "0.8804692708322822",
         "0.2684866056096575"
        ],
        [
         "25",
         "False",
         "False",
         "False",
         "True",
         "0.4682362749650352",
         "2.092381359589118",
         "-1.3204346125503543",
         "0.061824578451267674",
         "0",
         "-0.01928034899632728",
         "2.843015700496784"
        ],
        [
         "26",
         "False",
         "False",
         "False",
         "True",
         "0.4682362749650352",
         "1.0058443707754152",
         "-0.5360623885302863",
         "0.7674311803407343",
         "0",
         "0.8804692708322822",
         "0.2684866056096575"
        ],
        [
         "27",
         "False",
         "False",
         "False",
         "True",
         "0.4682362749650352",
         "-0.9861401087163735",
         "-1.1635601677463407",
         "-1.1141864246978435",
         "0",
         "-0.9190299688249368",
         "-0.5896897593527181"
        ],
        [
         "28",
         "False",
         "False",
         "True",
         "False",
         "0.4682362749650352",
         "1.0058443707754152",
         "-0.5360623885302863",
         "0.7674311803407343",
         "0",
         "0.8804692708322822",
         "0.2684866056096575"
        ],
        [
         "29",
         "False",
         "False",
         "False",
         "True",
         "0.4682362749650352",
         "-0.6541426954677421",
         "0.24830983548978164",
         "1.0026333809705565",
         "0",
         "-0.9190299688249368",
         "-0.5896897593527181"
        ],
        [
         "30",
         "False",
         "False",
         "True",
         "False",
         "0.4682362749650352",
         "-0.6541426954677421",
         "0.24830983548978164",
         "1.0026333809705565",
         "0",
         "-0.9190299688249368",
         "-0.5896897593527181"
        ],
        [
         "31",
         "False",
         "False",
         "True",
         "False",
         "0.4682362749650352",
         "0.19094162916513804",
         "1.8170542835299177",
         "1.473037782230201",
         "0",
         "-0.01928034899632728",
         "3.70119206545916"
        ],
        [
         "32",
         "False",
         "False",
         "False",
         "True",
         "0.4682362749650352",
         "0.19094162916513804",
         "0.09143539068576804",
         "0.5322289797109121",
         "1",
         "-0.01928034899632728",
         "0.2684866056096575"
        ],
        [
         "33",
         "False",
         "False",
         "True",
         "False",
         "0.4682362749650352",
         "0.19094162916513804",
         "1.8170542835299177",
         "1.473037782230201",
         "0",
         "-0.01928034899632728",
         "3.70119206545916"
        ],
        [
         "34",
         "False",
         "False",
         "False",
         "True",
         "0.4682362749650352",
         "-0.6541426954677421",
         "0.24830983548978164",
         "1.0026333809705565",
         "0",
         "-0.9190299688249368",
         "-0.5896897593527181"
        ],
        [
         "35",
         "False",
         "False",
         "False",
         "True",
         "0.4682362749650352",
         "2.092381359589118",
         "-1.3204346125503543",
         "0.061824578451267674",
         "0",
         "-0.01928034899632728",
         "2.843015700496784"
        ],
        [
         "36",
         "False",
         "False",
         "False",
         "True",
         "0.4682362749650352",
         "1.0058443707754152",
         "-0.5360623885302863",
         "0.7674311803407343",
         "0",
         "0.8804692708322822",
         "0.2684866056096575"
        ],
        [
         "37",
         "True",
         "False",
         "False",
         "False",
         "0.4682362749650352",
         "1.036025953798018",
         "-0.6929368333343",
         "-0.8789842240680212",
         "0",
         "-0.9190299688249368",
         "-0.5896897593527181"
        ],
        [
         "38",
         "False",
         "False",
         "False",
         "True",
         "0.4682362749650352",
         "0.19094162916513804",
         "1.8170542835299177",
         "1.473037782230201",
         "0",
         "-0.01928034899632728",
         "3.70119206545916"
        ],
        [
         "39",
         "False",
         "False",
         "False",
         "True",
         "0.4682362749650352",
         "0.5682114169476737",
         "-0.06543905411824555",
         "-0.8789842240680212",
         "0",
         "2.6799685104895015",
         "-0.5896897593527181"
        ],
        [
         "40",
         "False",
         "False",
         "False",
         "True",
         "0.7537461987242031",
         "-0.5786887379112349",
         "-1.477309057354368",
         "-1.3493886253276657",
         "0",
         "-0.9190299688249368",
         "-0.5896897593527181"
        ],
        [
         "41",
         "False",
         "False",
         "False",
         "True",
         "0.7537461987242031",
         "-1.5746809776571293",
         "0.09143539068576804",
         "0.2970267790810899",
         "0",
         "-0.9190299688249368",
         "-0.5896897593527181"
        ],
        [
         "42",
         "False",
         "False",
         "False",
         "True",
         "0.7537461987242031",
         "-0.6541426954677421",
         "0.24830983548978164",
         "1.0026333809705565",
         "0",
         "-0.9190299688249368",
         "-0.5896897593527181"
        ],
        [
         "43",
         "False",
         "False",
         "True",
         "False",
         "0.7537461987242031",
         "0.19094162916513804",
         "1.0326820595098496",
         "2.6490487853793123",
         "0",
         "-0.01928034899632728",
         "-0.5896897593527181"
        ],
        [
         "44",
         "False",
         "False",
         "False",
         "True",
         "0.7537461987242031",
         "-1.0163216917389764",
         "-0.37918794372627274",
         "-0.4085798228083768",
         "0",
         "0.8804692708322822",
         "-0.5896897593527181"
        ],
        [
         "45",
         "False",
         "False",
         "False",
         "True",
         "0.7537461987242031",
         "-1.5746809776571293",
         "0.09143539068576804",
         "0.2970267790810899",
         "0",
         "-0.9190299688249368",
         "-0.5896897593527181"
        ],
        [
         "46",
         "False",
         "False",
         "False",
         "True",
         "0.7537461987242031",
         "-0.6541426954677421",
         "0.24830983548978164",
         "1.0026333809705565",
         "0",
         "-0.9190299688249368",
         "-0.5896897593527181"
        ],
        [
         "47",
         "False",
         "False",
         "False",
         "True",
         "0.7537461987242031",
         "1.036025953798018",
         "0.5620587250978089",
         "-0.4085798228083768",
         "0",
         "-0.01928034899632728",
         "0.2684866056096575"
        ],
        [
         "48",
         "False",
         "False",
         "False",
         "True",
         "0.7537461987242031",
         "0.5682114169476737",
         "-0.06543905411824555",
         "-0.8789842240680212",
         "0",
         "2.6799685104895015",
         "-0.5896897593527181"
        ],
        [
         "49",
         "True",
         "False",
         "False",
         "False",
         "0.7537461987242031",
         "1.036025953798018",
         "0.5620587250978089",
         "-0.4085798228083768",
         "0",
         "-0.01928034899632728",
         "0.2684866056096575"
        ]
       ],
       "shape": {
        "columns": 11,
        "rows": 700
       }
      },
      "text/html": [
       "<div>\n",
       "<style scoped>\n",
       "    .dataframe tbody tr th:only-of-type {\n",
       "        vertical-align: middle;\n",
       "    }\n",
       "\n",
       "    .dataframe tbody tr th {\n",
       "        vertical-align: top;\n",
       "    }\n",
       "\n",
       "    .dataframe thead th {\n",
       "        text-align: right;\n",
       "    }\n",
       "</style>\n",
       "<table border=\"1\" class=\"dataframe\">\n",
       "  <thead>\n",
       "    <tr style=\"text-align: right;\">\n",
       "      <th></th>\n",
       "      <th>Reason_1</th>\n",
       "      <th>Reason_2</th>\n",
       "      <th>Reason_3</th>\n",
       "      <th>Reason_4</th>\n",
       "      <th>Month Value</th>\n",
       "      <th>Transportation Expense</th>\n",
       "      <th>Age</th>\n",
       "      <th>Body Mass Index</th>\n",
       "      <th>Education</th>\n",
       "      <th>Children</th>\n",
       "      <th>Pets</th>\n",
       "    </tr>\n",
       "  </thead>\n",
       "  <tbody>\n",
       "    <tr>\n",
       "      <th>0</th>\n",
       "      <td>False</td>\n",
       "      <td>False</td>\n",
       "      <td>False</td>\n",
       "      <td>True</td>\n",
       "      <td>0.182726</td>\n",
       "      <td>1.005844</td>\n",
       "      <td>-0.536062</td>\n",
       "      <td>0.767431</td>\n",
       "      <td>0</td>\n",
       "      <td>0.880469</td>\n",
       "      <td>0.268487</td>\n",
       "    </tr>\n",
       "    <tr>\n",
       "      <th>1</th>\n",
       "      <td>False</td>\n",
       "      <td>False</td>\n",
       "      <td>False</td>\n",
       "      <td>False</td>\n",
       "      <td>0.182726</td>\n",
       "      <td>-1.574681</td>\n",
       "      <td>2.130803</td>\n",
       "      <td>1.002633</td>\n",
       "      <td>0</td>\n",
       "      <td>-0.019280</td>\n",
       "      <td>-0.589690</td>\n",
       "    </tr>\n",
       "    <tr>\n",
       "      <th>2</th>\n",
       "      <td>False</td>\n",
       "      <td>False</td>\n",
       "      <td>False</td>\n",
       "      <td>True</td>\n",
       "      <td>0.182726</td>\n",
       "      <td>-0.654143</td>\n",
       "      <td>0.248310</td>\n",
       "      <td>1.002633</td>\n",
       "      <td>0</td>\n",
       "      <td>-0.919030</td>\n",
       "      <td>-0.589690</td>\n",
       "    </tr>\n",
       "    <tr>\n",
       "      <th>3</th>\n",
       "      <td>True</td>\n",
       "      <td>False</td>\n",
       "      <td>False</td>\n",
       "      <td>False</td>\n",
       "      <td>0.182726</td>\n",
       "      <td>0.854936</td>\n",
       "      <td>0.405184</td>\n",
       "      <td>-0.643782</td>\n",
       "      <td>0</td>\n",
       "      <td>0.880469</td>\n",
       "      <td>-0.589690</td>\n",
       "    </tr>\n",
       "    <tr>\n",
       "      <th>4</th>\n",
       "      <td>False</td>\n",
       "      <td>False</td>\n",
       "      <td>False</td>\n",
       "      <td>True</td>\n",
       "      <td>0.182726</td>\n",
       "      <td>1.005844</td>\n",
       "      <td>-0.536062</td>\n",
       "      <td>0.767431</td>\n",
       "      <td>0</td>\n",
       "      <td>0.880469</td>\n",
       "      <td>0.268487</td>\n",
       "    </tr>\n",
       "    <tr>\n",
       "      <th>...</th>\n",
       "      <td>...</td>\n",
       "      <td>...</td>\n",
       "      <td>...</td>\n",
       "      <td>...</td>\n",
       "      <td>...</td>\n",
       "      <td>...</td>\n",
       "      <td>...</td>\n",
       "      <td>...</td>\n",
       "      <td>...</td>\n",
       "      <td>...</td>\n",
       "      <td>...</td>\n",
       "    </tr>\n",
       "    <tr>\n",
       "      <th>695</th>\n",
       "      <td>True</td>\n",
       "      <td>False</td>\n",
       "      <td>False</td>\n",
       "      <td>False</td>\n",
       "      <td>-0.388293</td>\n",
       "      <td>-0.654143</td>\n",
       "      <td>0.562059</td>\n",
       "      <td>-1.114186</td>\n",
       "      <td>1</td>\n",
       "      <td>0.880469</td>\n",
       "      <td>-0.589690</td>\n",
       "    </tr>\n",
       "    <tr>\n",
       "      <th>696</th>\n",
       "      <td>True</td>\n",
       "      <td>False</td>\n",
       "      <td>False</td>\n",
       "      <td>False</td>\n",
       "      <td>-0.388293</td>\n",
       "      <td>0.040034</td>\n",
       "      <td>-1.320435</td>\n",
       "      <td>-0.643782</td>\n",
       "      <td>0</td>\n",
       "      <td>-0.019280</td>\n",
       "      <td>1.126663</td>\n",
       "    </tr>\n",
       "    <tr>\n",
       "      <th>697</th>\n",
       "      <td>True</td>\n",
       "      <td>False</td>\n",
       "      <td>False</td>\n",
       "      <td>False</td>\n",
       "      <td>-0.388293</td>\n",
       "      <td>1.624567</td>\n",
       "      <td>-1.320435</td>\n",
       "      <td>-0.408580</td>\n",
       "      <td>1</td>\n",
       "      <td>-0.919030</td>\n",
       "      <td>-0.589690</td>\n",
       "    </tr>\n",
       "    <tr>\n",
       "      <th>698</th>\n",
       "      <td>False</td>\n",
       "      <td>False</td>\n",
       "      <td>False</td>\n",
       "      <td>True</td>\n",
       "      <td>-0.388293</td>\n",
       "      <td>0.190942</td>\n",
       "      <td>-0.692937</td>\n",
       "      <td>-0.408580</td>\n",
       "      <td>1</td>\n",
       "      <td>-0.919030</td>\n",
       "      <td>-0.589690</td>\n",
       "    </tr>\n",
       "    <tr>\n",
       "      <th>699</th>\n",
       "      <td>False</td>\n",
       "      <td>False</td>\n",
       "      <td>False</td>\n",
       "      <td>True</td>\n",
       "      <td>-0.388293</td>\n",
       "      <td>1.036026</td>\n",
       "      <td>0.562059</td>\n",
       "      <td>-0.408580</td>\n",
       "      <td>0</td>\n",
       "      <td>-0.019280</td>\n",
       "      <td>0.268487</td>\n",
       "    </tr>\n",
       "  </tbody>\n",
       "</table>\n",
       "<p>700 rows × 11 columns</p>\n",
       "</div>"
      ],
      "text/plain": [
       "     Reason_1  Reason_2  Reason_3  Reason_4  Month Value  \\\n",
       "0       False     False     False      True     0.182726   \n",
       "1       False     False     False     False     0.182726   \n",
       "2       False     False     False      True     0.182726   \n",
       "3        True     False     False     False     0.182726   \n",
       "4       False     False     False      True     0.182726   \n",
       "..        ...       ...       ...       ...          ...   \n",
       "695      True     False     False     False    -0.388293   \n",
       "696      True     False     False     False    -0.388293   \n",
       "697      True     False     False     False    -0.388293   \n",
       "698     False     False     False      True    -0.388293   \n",
       "699     False     False     False      True    -0.388293   \n",
       "\n",
       "     Transportation Expense       Age  Body Mass Index  Education  Children  \\\n",
       "0                  1.005844 -0.536062         0.767431          0  0.880469   \n",
       "1                 -1.574681  2.130803         1.002633          0 -0.019280   \n",
       "2                 -0.654143  0.248310         1.002633          0 -0.919030   \n",
       "3                  0.854936  0.405184        -0.643782          0  0.880469   \n",
       "4                  1.005844 -0.536062         0.767431          0  0.880469   \n",
       "..                      ...       ...              ...        ...       ...   \n",
       "695               -0.654143  0.562059        -1.114186          1  0.880469   \n",
       "696                0.040034 -1.320435        -0.643782          0 -0.019280   \n",
       "697                1.624567 -1.320435        -0.408580          1 -0.919030   \n",
       "698                0.190942 -0.692937        -0.408580          1 -0.919030   \n",
       "699                1.036026  0.562059        -0.408580          0 -0.019280   \n",
       "\n",
       "         Pets  \n",
       "0    0.268487  \n",
       "1   -0.589690  \n",
       "2   -0.589690  \n",
       "3   -0.589690  \n",
       "4    0.268487  \n",
       "..        ...  \n",
       "695 -0.589690  \n",
       "696  1.126663  \n",
       "697 -0.589690  \n",
       "698 -0.589690  \n",
       "699  0.268487  \n",
       "\n",
       "[700 rows x 11 columns]"
      ]
     },
     "execution_count": 60,
     "metadata": {},
     "output_type": "execute_result"
    }
   ],
   "source": [
    "scaled_inputs"
   ]
  },
  {
   "cell_type": "code",
   "execution_count": 61,
   "metadata": {},
   "outputs": [
    {
     "data": {
      "text/plain": [
       "(700, 11)"
      ]
     },
     "execution_count": 61,
     "metadata": {},
     "output_type": "execute_result"
    }
   ],
   "source": [
    "scaled_inputs.shape"
   ]
  },
  {
   "cell_type": "markdown",
   "metadata": {},
   "source": [
    "## Split the data into train & test and shuffle"
   ]
  },
  {
   "cell_type": "markdown",
   "metadata": {},
   "source": [
    "### Import the relevant module"
   ]
  },
  {
   "cell_type": "code",
   "execution_count": 62,
   "metadata": {},
   "outputs": [],
   "source": [
    "from sklearn.model_selection import train_test_split"
   ]
  },
  {
   "cell_type": "markdown",
   "metadata": {},
   "source": [
    "### Split"
   ]
  },
  {
   "cell_type": "code",
   "execution_count": 64,
   "metadata": {},
   "outputs": [],
   "source": [
    "x_train, x_test, y_train, y_test = train_test_split(scaled_inputs, targets, #train_size = 0.8, \n",
    "                                                                            test_size = 0.2, random_state = 20)"
   ]
  },
  {
   "cell_type": "code",
   "execution_count": 65,
   "metadata": {},
   "outputs": [
    {
     "name": "stdout",
     "output_type": "stream",
     "text": [
      "(560, 11) (560,)\n"
     ]
    }
   ],
   "source": [
    "print (x_train.shape, y_train.shape)"
   ]
  },
  {
   "cell_type": "code",
   "execution_count": 66,
   "metadata": {},
   "outputs": [
    {
     "name": "stdout",
     "output_type": "stream",
     "text": [
      "(140, 11) (140,)\n"
     ]
    }
   ],
   "source": [
    "print (x_test.shape, y_test.shape)"
   ]
  },
  {
   "cell_type": "markdown",
   "metadata": {},
   "source": [
    "## Logistic regression with sklearn"
   ]
  },
  {
   "cell_type": "code",
   "execution_count": 67,
   "metadata": {},
   "outputs": [],
   "source": [
    "from sklearn.linear_model import LogisticRegression\n",
    "from sklearn import metrics"
   ]
  },
  {
   "cell_type": "markdown",
   "metadata": {},
   "source": [
    "### Training the model"
   ]
  },
  {
   "cell_type": "code",
   "execution_count": 68,
   "metadata": {},
   "outputs": [],
   "source": [
    "reg = LogisticRegression()"
   ]
  },
  {
   "cell_type": "code",
   "execution_count": 69,
   "metadata": {},
   "outputs": [
    {
     "data": {
      "text/html": [
       "<style>#sk-container-id-3 {\n",
       "  /* Definition of color scheme common for light and dark mode */\n",
       "  --sklearn-color-text: black;\n",
       "  --sklearn-color-line: gray;\n",
       "  /* Definition of color scheme for unfitted estimators */\n",
       "  --sklearn-color-unfitted-level-0: #fff5e6;\n",
       "  --sklearn-color-unfitted-level-1: #f6e4d2;\n",
       "  --sklearn-color-unfitted-level-2: #ffe0b3;\n",
       "  --sklearn-color-unfitted-level-3: chocolate;\n",
       "  /* Definition of color scheme for fitted estimators */\n",
       "  --sklearn-color-fitted-level-0: #f0f8ff;\n",
       "  --sklearn-color-fitted-level-1: #d4ebff;\n",
       "  --sklearn-color-fitted-level-2: #b3dbfd;\n",
       "  --sklearn-color-fitted-level-3: cornflowerblue;\n",
       "\n",
       "  /* Specific color for light theme */\n",
       "  --sklearn-color-text-on-default-background: var(--sg-text-color, var(--theme-code-foreground, var(--jp-content-font-color1, black)));\n",
       "  --sklearn-color-background: var(--sg-background-color, var(--theme-background, var(--jp-layout-color0, white)));\n",
       "  --sklearn-color-border-box: var(--sg-text-color, var(--theme-code-foreground, var(--jp-content-font-color1, black)));\n",
       "  --sklearn-color-icon: #696969;\n",
       "\n",
       "  @media (prefers-color-scheme: dark) {\n",
       "    /* Redefinition of color scheme for dark theme */\n",
       "    --sklearn-color-text-on-default-background: var(--sg-text-color, var(--theme-code-foreground, var(--jp-content-font-color1, white)));\n",
       "    --sklearn-color-background: var(--sg-background-color, var(--theme-background, var(--jp-layout-color0, #111)));\n",
       "    --sklearn-color-border-box: var(--sg-text-color, var(--theme-code-foreground, var(--jp-content-font-color1, white)));\n",
       "    --sklearn-color-icon: #878787;\n",
       "  }\n",
       "}\n",
       "\n",
       "#sk-container-id-3 {\n",
       "  color: var(--sklearn-color-text);\n",
       "}\n",
       "\n",
       "#sk-container-id-3 pre {\n",
       "  padding: 0;\n",
       "}\n",
       "\n",
       "#sk-container-id-3 input.sk-hidden--visually {\n",
       "  border: 0;\n",
       "  clip: rect(1px 1px 1px 1px);\n",
       "  clip: rect(1px, 1px, 1px, 1px);\n",
       "  height: 1px;\n",
       "  margin: -1px;\n",
       "  overflow: hidden;\n",
       "  padding: 0;\n",
       "  position: absolute;\n",
       "  width: 1px;\n",
       "}\n",
       "\n",
       "#sk-container-id-3 div.sk-dashed-wrapped {\n",
       "  border: 1px dashed var(--sklearn-color-line);\n",
       "  margin: 0 0.4em 0.5em 0.4em;\n",
       "  box-sizing: border-box;\n",
       "  padding-bottom: 0.4em;\n",
       "  background-color: var(--sklearn-color-background);\n",
       "}\n",
       "\n",
       "#sk-container-id-3 div.sk-container {\n",
       "  /* jupyter's `normalize.less` sets `[hidden] { display: none; }`\n",
       "     but bootstrap.min.css set `[hidden] { display: none !important; }`\n",
       "     so we also need the `!important` here to be able to override the\n",
       "     default hidden behavior on the sphinx rendered scikit-learn.org.\n",
       "     See: https://github.com/scikit-learn/scikit-learn/issues/21755 */\n",
       "  display: inline-block !important;\n",
       "  position: relative;\n",
       "}\n",
       "\n",
       "#sk-container-id-3 div.sk-text-repr-fallback {\n",
       "  display: none;\n",
       "}\n",
       "\n",
       "div.sk-parallel-item,\n",
       "div.sk-serial,\n",
       "div.sk-item {\n",
       "  /* draw centered vertical line to link estimators */\n",
       "  background-image: linear-gradient(var(--sklearn-color-text-on-default-background), var(--sklearn-color-text-on-default-background));\n",
       "  background-size: 2px 100%;\n",
       "  background-repeat: no-repeat;\n",
       "  background-position: center center;\n",
       "}\n",
       "\n",
       "/* Parallel-specific style estimator block */\n",
       "\n",
       "#sk-container-id-3 div.sk-parallel-item::after {\n",
       "  content: \"\";\n",
       "  width: 100%;\n",
       "  border-bottom: 2px solid var(--sklearn-color-text-on-default-background);\n",
       "  flex-grow: 1;\n",
       "}\n",
       "\n",
       "#sk-container-id-3 div.sk-parallel {\n",
       "  display: flex;\n",
       "  align-items: stretch;\n",
       "  justify-content: center;\n",
       "  background-color: var(--sklearn-color-background);\n",
       "  position: relative;\n",
       "}\n",
       "\n",
       "#sk-container-id-3 div.sk-parallel-item {\n",
       "  display: flex;\n",
       "  flex-direction: column;\n",
       "}\n",
       "\n",
       "#sk-container-id-3 div.sk-parallel-item:first-child::after {\n",
       "  align-self: flex-end;\n",
       "  width: 50%;\n",
       "}\n",
       "\n",
       "#sk-container-id-3 div.sk-parallel-item:last-child::after {\n",
       "  align-self: flex-start;\n",
       "  width: 50%;\n",
       "}\n",
       "\n",
       "#sk-container-id-3 div.sk-parallel-item:only-child::after {\n",
       "  width: 0;\n",
       "}\n",
       "\n",
       "/* Serial-specific style estimator block */\n",
       "\n",
       "#sk-container-id-3 div.sk-serial {\n",
       "  display: flex;\n",
       "  flex-direction: column;\n",
       "  align-items: center;\n",
       "  background-color: var(--sklearn-color-background);\n",
       "  padding-right: 1em;\n",
       "  padding-left: 1em;\n",
       "}\n",
       "\n",
       "\n",
       "/* Toggleable style: style used for estimator/Pipeline/ColumnTransformer box that is\n",
       "clickable and can be expanded/collapsed.\n",
       "- Pipeline and ColumnTransformer use this feature and define the default style\n",
       "- Estimators will overwrite some part of the style using the `sk-estimator` class\n",
       "*/\n",
       "\n",
       "/* Pipeline and ColumnTransformer style (default) */\n",
       "\n",
       "#sk-container-id-3 div.sk-toggleable {\n",
       "  /* Default theme specific background. It is overwritten whether we have a\n",
       "  specific estimator or a Pipeline/ColumnTransformer */\n",
       "  background-color: var(--sklearn-color-background);\n",
       "}\n",
       "\n",
       "/* Toggleable label */\n",
       "#sk-container-id-3 label.sk-toggleable__label {\n",
       "  cursor: pointer;\n",
       "  display: block;\n",
       "  width: 100%;\n",
       "  margin-bottom: 0;\n",
       "  padding: 0.5em;\n",
       "  box-sizing: border-box;\n",
       "  text-align: center;\n",
       "}\n",
       "\n",
       "#sk-container-id-3 label.sk-toggleable__label-arrow:before {\n",
       "  /* Arrow on the left of the label */\n",
       "  content: \"▸\";\n",
       "  float: left;\n",
       "  margin-right: 0.25em;\n",
       "  color: var(--sklearn-color-icon);\n",
       "}\n",
       "\n",
       "#sk-container-id-3 label.sk-toggleable__label-arrow:hover:before {\n",
       "  color: var(--sklearn-color-text);\n",
       "}\n",
       "\n",
       "/* Toggleable content - dropdown */\n",
       "\n",
       "#sk-container-id-3 div.sk-toggleable__content {\n",
       "  max-height: 0;\n",
       "  max-width: 0;\n",
       "  overflow: hidden;\n",
       "  text-align: left;\n",
       "  /* unfitted */\n",
       "  background-color: var(--sklearn-color-unfitted-level-0);\n",
       "}\n",
       "\n",
       "#sk-container-id-3 div.sk-toggleable__content.fitted {\n",
       "  /* fitted */\n",
       "  background-color: var(--sklearn-color-fitted-level-0);\n",
       "}\n",
       "\n",
       "#sk-container-id-3 div.sk-toggleable__content pre {\n",
       "  margin: 0.2em;\n",
       "  border-radius: 0.25em;\n",
       "  color: var(--sklearn-color-text);\n",
       "  /* unfitted */\n",
       "  background-color: var(--sklearn-color-unfitted-level-0);\n",
       "}\n",
       "\n",
       "#sk-container-id-3 div.sk-toggleable__content.fitted pre {\n",
       "  /* unfitted */\n",
       "  background-color: var(--sklearn-color-fitted-level-0);\n",
       "}\n",
       "\n",
       "#sk-container-id-3 input.sk-toggleable__control:checked~div.sk-toggleable__content {\n",
       "  /* Expand drop-down */\n",
       "  max-height: 200px;\n",
       "  max-width: 100%;\n",
       "  overflow: auto;\n",
       "}\n",
       "\n",
       "#sk-container-id-3 input.sk-toggleable__control:checked~label.sk-toggleable__label-arrow:before {\n",
       "  content: \"▾\";\n",
       "}\n",
       "\n",
       "/* Pipeline/ColumnTransformer-specific style */\n",
       "\n",
       "#sk-container-id-3 div.sk-label input.sk-toggleable__control:checked~label.sk-toggleable__label {\n",
       "  color: var(--sklearn-color-text);\n",
       "  background-color: var(--sklearn-color-unfitted-level-2);\n",
       "}\n",
       "\n",
       "#sk-container-id-3 div.sk-label.fitted input.sk-toggleable__control:checked~label.sk-toggleable__label {\n",
       "  background-color: var(--sklearn-color-fitted-level-2);\n",
       "}\n",
       "\n",
       "/* Estimator-specific style */\n",
       "\n",
       "/* Colorize estimator box */\n",
       "#sk-container-id-3 div.sk-estimator input.sk-toggleable__control:checked~label.sk-toggleable__label {\n",
       "  /* unfitted */\n",
       "  background-color: var(--sklearn-color-unfitted-level-2);\n",
       "}\n",
       "\n",
       "#sk-container-id-3 div.sk-estimator.fitted input.sk-toggleable__control:checked~label.sk-toggleable__label {\n",
       "  /* fitted */\n",
       "  background-color: var(--sklearn-color-fitted-level-2);\n",
       "}\n",
       "\n",
       "#sk-container-id-3 div.sk-label label.sk-toggleable__label,\n",
       "#sk-container-id-3 div.sk-label label {\n",
       "  /* The background is the default theme color */\n",
       "  color: var(--sklearn-color-text-on-default-background);\n",
       "}\n",
       "\n",
       "/* On hover, darken the color of the background */\n",
       "#sk-container-id-3 div.sk-label:hover label.sk-toggleable__label {\n",
       "  color: var(--sklearn-color-text);\n",
       "  background-color: var(--sklearn-color-unfitted-level-2);\n",
       "}\n",
       "\n",
       "/* Label box, darken color on hover, fitted */\n",
       "#sk-container-id-3 div.sk-label.fitted:hover label.sk-toggleable__label.fitted {\n",
       "  color: var(--sklearn-color-text);\n",
       "  background-color: var(--sklearn-color-fitted-level-2);\n",
       "}\n",
       "\n",
       "/* Estimator label */\n",
       "\n",
       "#sk-container-id-3 div.sk-label label {\n",
       "  font-family: monospace;\n",
       "  font-weight: bold;\n",
       "  display: inline-block;\n",
       "  line-height: 1.2em;\n",
       "}\n",
       "\n",
       "#sk-container-id-3 div.sk-label-container {\n",
       "  text-align: center;\n",
       "}\n",
       "\n",
       "/* Estimator-specific */\n",
       "#sk-container-id-3 div.sk-estimator {\n",
       "  font-family: monospace;\n",
       "  border: 1px dotted var(--sklearn-color-border-box);\n",
       "  border-radius: 0.25em;\n",
       "  box-sizing: border-box;\n",
       "  margin-bottom: 0.5em;\n",
       "  /* unfitted */\n",
       "  background-color: var(--sklearn-color-unfitted-level-0);\n",
       "}\n",
       "\n",
       "#sk-container-id-3 div.sk-estimator.fitted {\n",
       "  /* fitted */\n",
       "  background-color: var(--sklearn-color-fitted-level-0);\n",
       "}\n",
       "\n",
       "/* on hover */\n",
       "#sk-container-id-3 div.sk-estimator:hover {\n",
       "  /* unfitted */\n",
       "  background-color: var(--sklearn-color-unfitted-level-2);\n",
       "}\n",
       "\n",
       "#sk-container-id-3 div.sk-estimator.fitted:hover {\n",
       "  /* fitted */\n",
       "  background-color: var(--sklearn-color-fitted-level-2);\n",
       "}\n",
       "\n",
       "/* Specification for estimator info (e.g. \"i\" and \"?\") */\n",
       "\n",
       "/* Common style for \"i\" and \"?\" */\n",
       "\n",
       ".sk-estimator-doc-link,\n",
       "a:link.sk-estimator-doc-link,\n",
       "a:visited.sk-estimator-doc-link {\n",
       "  float: right;\n",
       "  font-size: smaller;\n",
       "  line-height: 1em;\n",
       "  font-family: monospace;\n",
       "  background-color: var(--sklearn-color-background);\n",
       "  border-radius: 1em;\n",
       "  height: 1em;\n",
       "  width: 1em;\n",
       "  text-decoration: none !important;\n",
       "  margin-left: 1ex;\n",
       "  /* unfitted */\n",
       "  border: var(--sklearn-color-unfitted-level-1) 1pt solid;\n",
       "  color: var(--sklearn-color-unfitted-level-1);\n",
       "}\n",
       "\n",
       ".sk-estimator-doc-link.fitted,\n",
       "a:link.sk-estimator-doc-link.fitted,\n",
       "a:visited.sk-estimator-doc-link.fitted {\n",
       "  /* fitted */\n",
       "  border: var(--sklearn-color-fitted-level-1) 1pt solid;\n",
       "  color: var(--sklearn-color-fitted-level-1);\n",
       "}\n",
       "\n",
       "/* On hover */\n",
       "div.sk-estimator:hover .sk-estimator-doc-link:hover,\n",
       ".sk-estimator-doc-link:hover,\n",
       "div.sk-label-container:hover .sk-estimator-doc-link:hover,\n",
       ".sk-estimator-doc-link:hover {\n",
       "  /* unfitted */\n",
       "  background-color: var(--sklearn-color-unfitted-level-3);\n",
       "  color: var(--sklearn-color-background);\n",
       "  text-decoration: none;\n",
       "}\n",
       "\n",
       "div.sk-estimator.fitted:hover .sk-estimator-doc-link.fitted:hover,\n",
       ".sk-estimator-doc-link.fitted:hover,\n",
       "div.sk-label-container:hover .sk-estimator-doc-link.fitted:hover,\n",
       ".sk-estimator-doc-link.fitted:hover {\n",
       "  /* fitted */\n",
       "  background-color: var(--sklearn-color-fitted-level-3);\n",
       "  color: var(--sklearn-color-background);\n",
       "  text-decoration: none;\n",
       "}\n",
       "\n",
       "/* Span, style for the box shown on hovering the info icon */\n",
       ".sk-estimator-doc-link span {\n",
       "  display: none;\n",
       "  z-index: 9999;\n",
       "  position: relative;\n",
       "  font-weight: normal;\n",
       "  right: .2ex;\n",
       "  padding: .5ex;\n",
       "  margin: .5ex;\n",
       "  width: min-content;\n",
       "  min-width: 20ex;\n",
       "  max-width: 50ex;\n",
       "  color: var(--sklearn-color-text);\n",
       "  box-shadow: 2pt 2pt 4pt #999;\n",
       "  /* unfitted */\n",
       "  background: var(--sklearn-color-unfitted-level-0);\n",
       "  border: .5pt solid var(--sklearn-color-unfitted-level-3);\n",
       "}\n",
       "\n",
       ".sk-estimator-doc-link.fitted span {\n",
       "  /* fitted */\n",
       "  background: var(--sklearn-color-fitted-level-0);\n",
       "  border: var(--sklearn-color-fitted-level-3);\n",
       "}\n",
       "\n",
       ".sk-estimator-doc-link:hover span {\n",
       "  display: block;\n",
       "}\n",
       "\n",
       "/* \"?\"-specific style due to the `<a>` HTML tag */\n",
       "\n",
       "#sk-container-id-3 a.estimator_doc_link {\n",
       "  float: right;\n",
       "  font-size: 1rem;\n",
       "  line-height: 1em;\n",
       "  font-family: monospace;\n",
       "  background-color: var(--sklearn-color-background);\n",
       "  border-radius: 1rem;\n",
       "  height: 1rem;\n",
       "  width: 1rem;\n",
       "  text-decoration: none;\n",
       "  /* unfitted */\n",
       "  color: var(--sklearn-color-unfitted-level-1);\n",
       "  border: var(--sklearn-color-unfitted-level-1) 1pt solid;\n",
       "}\n",
       "\n",
       "#sk-container-id-3 a.estimator_doc_link.fitted {\n",
       "  /* fitted */\n",
       "  border: var(--sklearn-color-fitted-level-1) 1pt solid;\n",
       "  color: var(--sklearn-color-fitted-level-1);\n",
       "}\n",
       "\n",
       "/* On hover */\n",
       "#sk-container-id-3 a.estimator_doc_link:hover {\n",
       "  /* unfitted */\n",
       "  background-color: var(--sklearn-color-unfitted-level-3);\n",
       "  color: var(--sklearn-color-background);\n",
       "  text-decoration: none;\n",
       "}\n",
       "\n",
       "#sk-container-id-3 a.estimator_doc_link.fitted:hover {\n",
       "  /* fitted */\n",
       "  background-color: var(--sklearn-color-fitted-level-3);\n",
       "}\n",
       "</style><div id=\"sk-container-id-3\" class=\"sk-top-container\"><div class=\"sk-text-repr-fallback\"><pre>LogisticRegression()</pre><b>In a Jupyter environment, please rerun this cell to show the HTML representation or trust the notebook. <br />On GitHub, the HTML representation is unable to render, please try loading this page with nbviewer.org.</b></div><div class=\"sk-container\" hidden><div class=\"sk-item\"><div class=\"sk-estimator fitted sk-toggleable\"><input class=\"sk-toggleable__control sk-hidden--visually\" id=\"sk-estimator-id-2\" type=\"checkbox\" checked><label for=\"sk-estimator-id-2\" class=\"sk-toggleable__label fitted sk-toggleable__label-arrow fitted\">&nbsp;&nbsp;LogisticRegression<a class=\"sk-estimator-doc-link fitted\" rel=\"noreferrer\" target=\"_blank\" href=\"https://scikit-learn.org/1.5/modules/generated/sklearn.linear_model.LogisticRegression.html\">?<span>Documentation for LogisticRegression</span></a><span class=\"sk-estimator-doc-link fitted\">i<span>Fitted</span></span></label><div class=\"sk-toggleable__content fitted\"><pre>LogisticRegression()</pre></div> </div></div></div></div>"
      ],
      "text/plain": [
       "LogisticRegression()"
      ]
     },
     "execution_count": 69,
     "metadata": {},
     "output_type": "execute_result"
    }
   ],
   "source": [
    "reg.fit(x_train,y_train)"
   ]
  },
  {
   "cell_type": "code",
   "execution_count": 70,
   "metadata": {},
   "outputs": [
    {
     "data": {
      "text/plain": [
       "0.7732142857142857"
      ]
     },
     "execution_count": 70,
     "metadata": {},
     "output_type": "execute_result"
    }
   ],
   "source": [
    "reg.score(x_train,y_train)"
   ]
  },
  {
   "cell_type": "markdown",
   "metadata": {},
   "source": [
    "### Manually check the accuracy"
   ]
  },
  {
   "cell_type": "code",
   "execution_count": 71,
   "metadata": {
    "scrolled": true
   },
   "outputs": [],
   "source": [
    "model_outputs = reg.predict(x_train)"
   ]
  },
  {
   "cell_type": "code",
   "execution_count": 72,
   "metadata": {},
   "outputs": [
    {
     "data": {
      "text/plain": [
       "433"
      ]
     },
     "execution_count": 72,
     "metadata": {},
     "output_type": "execute_result"
    }
   ],
   "source": [
    "np.sum((model_outputs==y_train))"
   ]
  },
  {
   "cell_type": "code",
   "execution_count": 73,
   "metadata": {},
   "outputs": [
    {
     "data": {
      "text/plain": [
       "0.7732142857142857"
      ]
     },
     "execution_count": 73,
     "metadata": {},
     "output_type": "execute_result"
    }
   ],
   "source": [
    "np.sum((model_outputs==y_train)) / model_outputs.shape[0]"
   ]
  },
  {
   "cell_type": "markdown",
   "metadata": {},
   "source": [
    "### Finding the intercept and coefficients"
   ]
  },
  {
   "cell_type": "code",
   "execution_count": 74,
   "metadata": {},
   "outputs": [
    {
     "data": {
      "text/plain": [
       "array([-1.6469898])"
      ]
     },
     "execution_count": 74,
     "metadata": {},
     "output_type": "execute_result"
    }
   ],
   "source": [
    "reg.intercept_"
   ]
  },
  {
   "cell_type": "code",
   "execution_count": 75,
   "metadata": {},
   "outputs": [
    {
     "data": {
      "text/plain": [
       "array([[ 2.80000644,  0.95174778,  3.1140605 ,  0.83835931,  0.15897713,\n",
       "         0.60513709, -0.16990589,  0.27998236, -0.21017416,  0.34842434,\n",
       "        -0.27721907]])"
      ]
     },
     "execution_count": 75,
     "metadata": {},
     "output_type": "execute_result"
    }
   ],
   "source": [
    "reg.coef_"
   ]
  },
  {
   "cell_type": "code",
   "execution_count": 76,
   "metadata": {},
   "outputs": [],
   "source": [
    "feature_name = unscaled_inputs.columns.values"
   ]
  },
  {
   "cell_type": "code",
   "execution_count": null,
   "metadata": {},
   "outputs": [
    {
     "data": {
      "application/vnd.microsoft.datawrangler.viewer.v0+json": {
       "columns": [
        {
         "name": "index",
         "rawType": "int64",
         "type": "integer"
        },
        {
         "name": "Feature name",
         "rawType": "object",
         "type": "string"
        },
        {
         "name": "Coefficient",
         "rawType": "float64",
         "type": "float"
        }
       ],
       "conversionMethod": "pd.DataFrame",
       "ref": "9eda1747-543e-4360-9ee9-a6b42a0108d0",
       "rows": [
        [
         "0",
         "Reason_1",
         "2.80000643689626"
        ],
        [
         "1",
         "Reason_2",
         "0.951747777865715"
        ],
        [
         "2",
         "Reason_3",
         "3.1140605044823046"
        ],
        [
         "3",
         "Reason_4",
         "0.8383593127777024"
        ],
        [
         "4",
         "Month Value",
         "0.15897712688773397"
        ],
        [
         "5",
         "Transportation Expense",
         "0.6051370884549881"
        ],
        [
         "6",
         "Age",
         "-0.16990589460015723"
        ],
        [
         "7",
         "Body Mass Index",
         "0.2799823567007396"
        ],
        [
         "8",
         "Education",
         "-0.21017416361288255"
        ],
        [
         "9",
         "Children",
         "0.3484243360723884"
        ],
        [
         "10",
         "Pets",
         "-0.2772190686998923"
        ]
       ],
       "shape": {
        "columns": 2,
        "rows": 11
       }
      },
      "text/html": [
       "<div>\n",
       "<style scoped>\n",
       "    .dataframe tbody tr th:only-of-type {\n",
       "        vertical-align: middle;\n",
       "    }\n",
       "\n",
       "    .dataframe tbody tr th {\n",
       "        vertical-align: top;\n",
       "    }\n",
       "\n",
       "    .dataframe thead th {\n",
       "        text-align: right;\n",
       "    }\n",
       "</style>\n",
       "<table border=\"1\" class=\"dataframe\">\n",
       "  <thead>\n",
       "    <tr style=\"text-align: right;\">\n",
       "      <th></th>\n",
       "      <th>Feature name</th>\n",
       "      <th>Coefficient</th>\n",
       "    </tr>\n",
       "  </thead>\n",
       "  <tbody>\n",
       "    <tr>\n",
       "      <th>0</th>\n",
       "      <td>Reason_1</td>\n",
       "      <td>2.800006</td>\n",
       "    </tr>\n",
       "    <tr>\n",
       "      <th>1</th>\n",
       "      <td>Reason_2</td>\n",
       "      <td>0.951748</td>\n",
       "    </tr>\n",
       "    <tr>\n",
       "      <th>2</th>\n",
       "      <td>Reason_3</td>\n",
       "      <td>3.114061</td>\n",
       "    </tr>\n",
       "    <tr>\n",
       "      <th>3</th>\n",
       "      <td>Reason_4</td>\n",
       "      <td>0.838359</td>\n",
       "    </tr>\n",
       "    <tr>\n",
       "      <th>4</th>\n",
       "      <td>Month Value</td>\n",
       "      <td>0.158977</td>\n",
       "    </tr>\n",
       "    <tr>\n",
       "      <th>5</th>\n",
       "      <td>Transportation Expense</td>\n",
       "      <td>0.605137</td>\n",
       "    </tr>\n",
       "    <tr>\n",
       "      <th>6</th>\n",
       "      <td>Age</td>\n",
       "      <td>-0.169906</td>\n",
       "    </tr>\n",
       "    <tr>\n",
       "      <th>7</th>\n",
       "      <td>Body Mass Index</td>\n",
       "      <td>0.279982</td>\n",
       "    </tr>\n",
       "    <tr>\n",
       "      <th>8</th>\n",
       "      <td>Education</td>\n",
       "      <td>-0.210174</td>\n",
       "    </tr>\n",
       "    <tr>\n",
       "      <th>9</th>\n",
       "      <td>Children</td>\n",
       "      <td>0.348424</td>\n",
       "    </tr>\n",
       "    <tr>\n",
       "      <th>10</th>\n",
       "      <td>Pets</td>\n",
       "      <td>-0.277219</td>\n",
       "    </tr>\n",
       "  </tbody>\n",
       "</table>\n",
       "</div>"
      ],
      "text/plain": [
       "              Feature name  Coefficient\n",
       "0                 Reason_1     2.800006\n",
       "1                 Reason_2     0.951748\n",
       "2                 Reason_3     3.114061\n",
       "3                 Reason_4     0.838359\n",
       "4              Month Value     0.158977\n",
       "5   Transportation Expense     0.605137\n",
       "6                      Age    -0.169906\n",
       "7          Body Mass Index     0.279982\n",
       "8                Education    -0.210174\n",
       "9                 Children     0.348424\n",
       "10                    Pets    -0.277219"
      ]
     },
     "execution_count": 77,
     "metadata": {},
     "output_type": "execute_result"
    }
   ],
   "source": [
    "summary_table = pd.DataFrame (columns=['Feature name'], data = feature_name)\n",
    "\n",
    "summary_table['Coefficient'] = np.transpose(reg.coef_)"
   ]
  },
  {
   "cell_type": "code",
   "execution_count": 78,
   "metadata": {
    "scrolled": true
   },
   "outputs": [
    {
     "data": {
      "application/vnd.microsoft.datawrangler.viewer.v0+json": {
       "columns": [
        {
         "name": "index",
         "rawType": "int64",
         "type": "integer"
        },
        {
         "name": "Feature name",
         "rawType": "object",
         "type": "string"
        },
        {
         "name": "Coefficient",
         "rawType": "float64",
         "type": "float"
        }
       ],
       "conversionMethod": "pd.DataFrame",
       "ref": "89bd2254-04d7-4ae6-969a-2327b8ebe93e",
       "rows": [
        [
         "0",
         "Intercept",
         "-1.6469898034386"
        ],
        [
         "1",
         "Reason_1",
         "2.80000643689626"
        ],
        [
         "2",
         "Reason_2",
         "0.951747777865715"
        ],
        [
         "3",
         "Reason_3",
         "3.1140605044823046"
        ],
        [
         "4",
         "Reason_4",
         "0.8383593127777024"
        ],
        [
         "5",
         "Month Value",
         "0.15897712688773397"
        ],
        [
         "6",
         "Transportation Expense",
         "0.6051370884549881"
        ],
        [
         "7",
         "Age",
         "-0.16990589460015723"
        ],
        [
         "8",
         "Body Mass Index",
         "0.2799823567007396"
        ],
        [
         "9",
         "Education",
         "-0.21017416361288255"
        ],
        [
         "10",
         "Children",
         "0.3484243360723884"
        ],
        [
         "11",
         "Pets",
         "-0.2772190686998923"
        ]
       ],
       "shape": {
        "columns": 2,
        "rows": 12
       }
      },
      "text/html": [
       "<div>\n",
       "<style scoped>\n",
       "    .dataframe tbody tr th:only-of-type {\n",
       "        vertical-align: middle;\n",
       "    }\n",
       "\n",
       "    .dataframe tbody tr th {\n",
       "        vertical-align: top;\n",
       "    }\n",
       "\n",
       "    .dataframe thead th {\n",
       "        text-align: right;\n",
       "    }\n",
       "</style>\n",
       "<table border=\"1\" class=\"dataframe\">\n",
       "  <thead>\n",
       "    <tr style=\"text-align: right;\">\n",
       "      <th></th>\n",
       "      <th>Feature name</th>\n",
       "      <th>Coefficient</th>\n",
       "    </tr>\n",
       "  </thead>\n",
       "  <tbody>\n",
       "    <tr>\n",
       "      <th>0</th>\n",
       "      <td>Intercept</td>\n",
       "      <td>-1.646990</td>\n",
       "    </tr>\n",
       "    <tr>\n",
       "      <th>1</th>\n",
       "      <td>Reason_1</td>\n",
       "      <td>2.800006</td>\n",
       "    </tr>\n",
       "    <tr>\n",
       "      <th>2</th>\n",
       "      <td>Reason_2</td>\n",
       "      <td>0.951748</td>\n",
       "    </tr>\n",
       "    <tr>\n",
       "      <th>3</th>\n",
       "      <td>Reason_3</td>\n",
       "      <td>3.114061</td>\n",
       "    </tr>\n",
       "    <tr>\n",
       "      <th>4</th>\n",
       "      <td>Reason_4</td>\n",
       "      <td>0.838359</td>\n",
       "    </tr>\n",
       "    <tr>\n",
       "      <th>5</th>\n",
       "      <td>Month Value</td>\n",
       "      <td>0.158977</td>\n",
       "    </tr>\n",
       "    <tr>\n",
       "      <th>6</th>\n",
       "      <td>Transportation Expense</td>\n",
       "      <td>0.605137</td>\n",
       "    </tr>\n",
       "    <tr>\n",
       "      <th>7</th>\n",
       "      <td>Age</td>\n",
       "      <td>-0.169906</td>\n",
       "    </tr>\n",
       "    <tr>\n",
       "      <th>8</th>\n",
       "      <td>Body Mass Index</td>\n",
       "      <td>0.279982</td>\n",
       "    </tr>\n",
       "    <tr>\n",
       "      <th>9</th>\n",
       "      <td>Education</td>\n",
       "      <td>-0.210174</td>\n",
       "    </tr>\n",
       "    <tr>\n",
       "      <th>10</th>\n",
       "      <td>Children</td>\n",
       "      <td>0.348424</td>\n",
       "    </tr>\n",
       "    <tr>\n",
       "      <th>11</th>\n",
       "      <td>Pets</td>\n",
       "      <td>-0.277219</td>\n",
       "    </tr>\n",
       "  </tbody>\n",
       "</table>\n",
       "</div>"
      ],
      "text/plain": [
       "              Feature name  Coefficient\n",
       "0                Intercept    -1.646990\n",
       "1                 Reason_1     2.800006\n",
       "2                 Reason_2     0.951748\n",
       "3                 Reason_3     3.114061\n",
       "4                 Reason_4     0.838359\n",
       "5              Month Value     0.158977\n",
       "6   Transportation Expense     0.605137\n",
       "7                      Age    -0.169906\n",
       "8          Body Mass Index     0.279982\n",
       "9                Education    -0.210174\n",
       "10                Children     0.348424\n",
       "11                    Pets    -0.277219"
      ]
     },
     "execution_count": 78,
     "metadata": {},
     "output_type": "execute_result"
    }
   ],
   "source": [
    "summary_table.index = summary_table.index + 1\n",
    "summary_table.loc[0] = ['Intercept', reg.intercept_[0]]\n",
    "summary_table = summary_table.sort_index()\n",
    "summary_table"
   ]
  },
  {
   "cell_type": "markdown",
   "metadata": {},
   "source": [
    "## Interpreting the coefficients"
   ]
  },
  {
   "cell_type": "code",
   "execution_count": 79,
   "metadata": {},
   "outputs": [],
   "source": [
    "summary_table['Odds_ratio'] = np.exp(summary_table.Coefficient)"
   ]
  },
  {
   "cell_type": "code",
   "execution_count": 80,
   "metadata": {},
   "outputs": [
    {
     "data": {
      "application/vnd.microsoft.datawrangler.viewer.v0+json": {
       "columns": [
        {
         "name": "index",
         "rawType": "int64",
         "type": "integer"
        },
        {
         "name": "Feature name",
         "rawType": "object",
         "type": "string"
        },
        {
         "name": "Coefficient",
         "rawType": "float64",
         "type": "float"
        },
        {
         "name": "Odds_ratio",
         "rawType": "float64",
         "type": "float"
        }
       ],
       "conversionMethod": "pd.DataFrame",
       "ref": "3823bac2-6229-4927-9340-1b955c614848",
       "rows": [
        [
         "0",
         "Intercept",
         "-1.6469898034386",
         "0.19262888757834418"
        ],
        [
         "1",
         "Reason_1",
         "2.80000643689626",
         "16.444752623923026"
        ],
        [
         "2",
         "Reason_2",
         "0.951747777865715",
         "2.590232857046574"
        ],
        [
         "3",
         "Reason_3",
         "3.1140605044823046",
         "22.51227023815241"
        ],
        [
         "4",
         "Reason_4",
         "0.8383593127777024",
         "2.312569659037304"
        ],
        [
         "5",
         "Month Value",
         "0.15897712688773397",
         "1.1723111319699187"
        ],
        [
         "6",
         "Transportation Expense",
         "0.6051370884549881",
         "1.8315032696301545"
        ],
        [
         "7",
         "Age",
         "-0.16990589460015723",
         "0.8437442137470744"
        ],
        [
         "8",
         "Body Mass Index",
         "0.2799823567007396",
         "1.3231064681681322"
        ],
        [
         "9",
         "Education",
         "-0.21017416361288255",
         "0.810443083982361"
        ],
        [
         "10",
         "Children",
         "0.3484243360723884",
         "1.4168333356926748"
        ],
        [
         "11",
         "Pets",
         "-0.2772190686998923",
         "0.7578884492859834"
        ]
       ],
       "shape": {
        "columns": 3,
        "rows": 12
       }
      },
      "text/html": [
       "<div>\n",
       "<style scoped>\n",
       "    .dataframe tbody tr th:only-of-type {\n",
       "        vertical-align: middle;\n",
       "    }\n",
       "\n",
       "    .dataframe tbody tr th {\n",
       "        vertical-align: top;\n",
       "    }\n",
       "\n",
       "    .dataframe thead th {\n",
       "        text-align: right;\n",
       "    }\n",
       "</style>\n",
       "<table border=\"1\" class=\"dataframe\">\n",
       "  <thead>\n",
       "    <tr style=\"text-align: right;\">\n",
       "      <th></th>\n",
       "      <th>Feature name</th>\n",
       "      <th>Coefficient</th>\n",
       "      <th>Odds_ratio</th>\n",
       "    </tr>\n",
       "  </thead>\n",
       "  <tbody>\n",
       "    <tr>\n",
       "      <th>0</th>\n",
       "      <td>Intercept</td>\n",
       "      <td>-1.646990</td>\n",
       "      <td>0.192629</td>\n",
       "    </tr>\n",
       "    <tr>\n",
       "      <th>1</th>\n",
       "      <td>Reason_1</td>\n",
       "      <td>2.800006</td>\n",
       "      <td>16.444753</td>\n",
       "    </tr>\n",
       "    <tr>\n",
       "      <th>2</th>\n",
       "      <td>Reason_2</td>\n",
       "      <td>0.951748</td>\n",
       "      <td>2.590233</td>\n",
       "    </tr>\n",
       "    <tr>\n",
       "      <th>3</th>\n",
       "      <td>Reason_3</td>\n",
       "      <td>3.114061</td>\n",
       "      <td>22.512270</td>\n",
       "    </tr>\n",
       "    <tr>\n",
       "      <th>4</th>\n",
       "      <td>Reason_4</td>\n",
       "      <td>0.838359</td>\n",
       "      <td>2.312570</td>\n",
       "    </tr>\n",
       "    <tr>\n",
       "      <th>5</th>\n",
       "      <td>Month Value</td>\n",
       "      <td>0.158977</td>\n",
       "      <td>1.172311</td>\n",
       "    </tr>\n",
       "    <tr>\n",
       "      <th>6</th>\n",
       "      <td>Transportation Expense</td>\n",
       "      <td>0.605137</td>\n",
       "      <td>1.831503</td>\n",
       "    </tr>\n",
       "    <tr>\n",
       "      <th>7</th>\n",
       "      <td>Age</td>\n",
       "      <td>-0.169906</td>\n",
       "      <td>0.843744</td>\n",
       "    </tr>\n",
       "    <tr>\n",
       "      <th>8</th>\n",
       "      <td>Body Mass Index</td>\n",
       "      <td>0.279982</td>\n",
       "      <td>1.323106</td>\n",
       "    </tr>\n",
       "    <tr>\n",
       "      <th>9</th>\n",
       "      <td>Education</td>\n",
       "      <td>-0.210174</td>\n",
       "      <td>0.810443</td>\n",
       "    </tr>\n",
       "    <tr>\n",
       "      <th>10</th>\n",
       "      <td>Children</td>\n",
       "      <td>0.348424</td>\n",
       "      <td>1.416833</td>\n",
       "    </tr>\n",
       "    <tr>\n",
       "      <th>11</th>\n",
       "      <td>Pets</td>\n",
       "      <td>-0.277219</td>\n",
       "      <td>0.757888</td>\n",
       "    </tr>\n",
       "  </tbody>\n",
       "</table>\n",
       "</div>"
      ],
      "text/plain": [
       "              Feature name  Coefficient  Odds_ratio\n",
       "0                Intercept    -1.646990    0.192629\n",
       "1                 Reason_1     2.800006   16.444753\n",
       "2                 Reason_2     0.951748    2.590233\n",
       "3                 Reason_3     3.114061   22.512270\n",
       "4                 Reason_4     0.838359    2.312570\n",
       "5              Month Value     0.158977    1.172311\n",
       "6   Transportation Expense     0.605137    1.831503\n",
       "7                      Age    -0.169906    0.843744\n",
       "8          Body Mass Index     0.279982    1.323106\n",
       "9                Education    -0.210174    0.810443\n",
       "10                Children     0.348424    1.416833\n",
       "11                    Pets    -0.277219    0.757888"
      ]
     },
     "execution_count": 80,
     "metadata": {},
     "output_type": "execute_result"
    }
   ],
   "source": [
    "summary_table"
   ]
  },
  {
   "cell_type": "code",
   "execution_count": 81,
   "metadata": {},
   "outputs": [
    {
     "data": {
      "application/vnd.microsoft.datawrangler.viewer.v0+json": {
       "columns": [
        {
         "name": "index",
         "rawType": "int64",
         "type": "integer"
        },
        {
         "name": "Feature name",
         "rawType": "object",
         "type": "string"
        },
        {
         "name": "Coefficient",
         "rawType": "float64",
         "type": "float"
        },
        {
         "name": "Odds_ratio",
         "rawType": "float64",
         "type": "float"
        }
       ],
       "conversionMethod": "pd.DataFrame",
       "ref": "13d52016-ebe2-4c58-8ae7-18cf626dc629",
       "rows": [
        [
         "3",
         "Reason_3",
         "3.1140605044823046",
         "22.51227023815241"
        ],
        [
         "1",
         "Reason_1",
         "2.80000643689626",
         "16.444752623923026"
        ],
        [
         "2",
         "Reason_2",
         "0.951747777865715",
         "2.590232857046574"
        ],
        [
         "4",
         "Reason_4",
         "0.8383593127777024",
         "2.312569659037304"
        ],
        [
         "6",
         "Transportation Expense",
         "0.6051370884549881",
         "1.8315032696301545"
        ],
        [
         "10",
         "Children",
         "0.3484243360723884",
         "1.4168333356926748"
        ],
        [
         "8",
         "Body Mass Index",
         "0.2799823567007396",
         "1.3231064681681322"
        ],
        [
         "5",
         "Month Value",
         "0.15897712688773397",
         "1.1723111319699187"
        ],
        [
         "7",
         "Age",
         "-0.16990589460015723",
         "0.8437442137470744"
        ],
        [
         "9",
         "Education",
         "-0.21017416361288255",
         "0.810443083982361"
        ],
        [
         "11",
         "Pets",
         "-0.2772190686998923",
         "0.7578884492859834"
        ],
        [
         "0",
         "Intercept",
         "-1.6469898034386",
         "0.19262888757834418"
        ]
       ],
       "shape": {
        "columns": 3,
        "rows": 12
       }
      },
      "text/html": [
       "<div>\n",
       "<style scoped>\n",
       "    .dataframe tbody tr th:only-of-type {\n",
       "        vertical-align: middle;\n",
       "    }\n",
       "\n",
       "    .dataframe tbody tr th {\n",
       "        vertical-align: top;\n",
       "    }\n",
       "\n",
       "    .dataframe thead th {\n",
       "        text-align: right;\n",
       "    }\n",
       "</style>\n",
       "<table border=\"1\" class=\"dataframe\">\n",
       "  <thead>\n",
       "    <tr style=\"text-align: right;\">\n",
       "      <th></th>\n",
       "      <th>Feature name</th>\n",
       "      <th>Coefficient</th>\n",
       "      <th>Odds_ratio</th>\n",
       "    </tr>\n",
       "  </thead>\n",
       "  <tbody>\n",
       "    <tr>\n",
       "      <th>3</th>\n",
       "      <td>Reason_3</td>\n",
       "      <td>3.114061</td>\n",
       "      <td>22.512270</td>\n",
       "    </tr>\n",
       "    <tr>\n",
       "      <th>1</th>\n",
       "      <td>Reason_1</td>\n",
       "      <td>2.800006</td>\n",
       "      <td>16.444753</td>\n",
       "    </tr>\n",
       "    <tr>\n",
       "      <th>2</th>\n",
       "      <td>Reason_2</td>\n",
       "      <td>0.951748</td>\n",
       "      <td>2.590233</td>\n",
       "    </tr>\n",
       "    <tr>\n",
       "      <th>4</th>\n",
       "      <td>Reason_4</td>\n",
       "      <td>0.838359</td>\n",
       "      <td>2.312570</td>\n",
       "    </tr>\n",
       "    <tr>\n",
       "      <th>6</th>\n",
       "      <td>Transportation Expense</td>\n",
       "      <td>0.605137</td>\n",
       "      <td>1.831503</td>\n",
       "    </tr>\n",
       "    <tr>\n",
       "      <th>10</th>\n",
       "      <td>Children</td>\n",
       "      <td>0.348424</td>\n",
       "      <td>1.416833</td>\n",
       "    </tr>\n",
       "    <tr>\n",
       "      <th>8</th>\n",
       "      <td>Body Mass Index</td>\n",
       "      <td>0.279982</td>\n",
       "      <td>1.323106</td>\n",
       "    </tr>\n",
       "    <tr>\n",
       "      <th>5</th>\n",
       "      <td>Month Value</td>\n",
       "      <td>0.158977</td>\n",
       "      <td>1.172311</td>\n",
       "    </tr>\n",
       "    <tr>\n",
       "      <th>7</th>\n",
       "      <td>Age</td>\n",
       "      <td>-0.169906</td>\n",
       "      <td>0.843744</td>\n",
       "    </tr>\n",
       "    <tr>\n",
       "      <th>9</th>\n",
       "      <td>Education</td>\n",
       "      <td>-0.210174</td>\n",
       "      <td>0.810443</td>\n",
       "    </tr>\n",
       "    <tr>\n",
       "      <th>11</th>\n",
       "      <td>Pets</td>\n",
       "      <td>-0.277219</td>\n",
       "      <td>0.757888</td>\n",
       "    </tr>\n",
       "    <tr>\n",
       "      <th>0</th>\n",
       "      <td>Intercept</td>\n",
       "      <td>-1.646990</td>\n",
       "      <td>0.192629</td>\n",
       "    </tr>\n",
       "  </tbody>\n",
       "</table>\n",
       "</div>"
      ],
      "text/plain": [
       "              Feature name  Coefficient  Odds_ratio\n",
       "3                 Reason_3     3.114061   22.512270\n",
       "1                 Reason_1     2.800006   16.444753\n",
       "2                 Reason_2     0.951748    2.590233\n",
       "4                 Reason_4     0.838359    2.312570\n",
       "6   Transportation Expense     0.605137    1.831503\n",
       "10                Children     0.348424    1.416833\n",
       "8          Body Mass Index     0.279982    1.323106\n",
       "5              Month Value     0.158977    1.172311\n",
       "7                      Age    -0.169906    0.843744\n",
       "9                Education    -0.210174    0.810443\n",
       "11                    Pets    -0.277219    0.757888\n",
       "0                Intercept    -1.646990    0.192629"
      ]
     },
     "execution_count": 81,
     "metadata": {},
     "output_type": "execute_result"
    }
   ],
   "source": [
    "summary_table.sort_values('Odds_ratio', ascending=False)"
   ]
  },
  {
   "cell_type": "markdown",
   "metadata": {},
   "source": [
    "## Testing the model"
   ]
  },
  {
   "cell_type": "code",
   "execution_count": 82,
   "metadata": {},
   "outputs": [
    {
     "data": {
      "text/plain": [
       "0.75"
      ]
     },
     "execution_count": 82,
     "metadata": {},
     "output_type": "execute_result"
    }
   ],
   "source": [
    "reg.score(x_test,y_test)"
   ]
  },
  {
   "cell_type": "code",
   "execution_count": 83,
   "metadata": {},
   "outputs": [
    {
     "data": {
      "text/plain": [
       "array([[0.71342516, 0.28657484],\n",
       "       [0.5873216 , 0.4126784 ],\n",
       "       [0.44016153, 0.55983847],\n",
       "       [0.78163061, 0.21836939],\n",
       "       [0.08407928, 0.91592072],\n",
       "       [0.3348226 , 0.6651774 ],\n",
       "       [0.29971206, 0.70028794],\n",
       "       [0.13112385, 0.86887615],\n",
       "       [0.78627908, 0.21372092],\n",
       "       [0.74906578, 0.25093422],\n",
       "       [0.49395555, 0.50604445],\n",
       "       [0.22492002, 0.77507998],\n",
       "       [0.07135527, 0.92864473],\n",
       "       [0.73173354, 0.26826646],\n",
       "       [0.30957854, 0.69042146],\n",
       "       [0.54726422, 0.45273578],\n",
       "       [0.55051921, 0.44948079],\n",
       "       [0.53926379, 0.46073621],\n",
       "       [0.40197149, 0.59802851],\n",
       "       [0.05365482, 0.94634518],\n",
       "       [0.70030387, 0.29969613],\n",
       "       [0.78163061, 0.21836939],\n",
       "       [0.42028246, 0.57971754],\n",
       "       [0.42028246, 0.57971754],\n",
       "       [0.24801464, 0.75198536],\n",
       "       [0.74567806, 0.25432194],\n",
       "       [0.51026557, 0.48973443],\n",
       "       [0.8569309 , 0.1430691 ],\n",
       "       [0.20365204, 0.79634796],\n",
       "       [0.78163061, 0.21836939],\n",
       "       [0.63052323, 0.36947677],\n",
       "       [0.32086805, 0.67913195],\n",
       "       [0.31491675, 0.68508325],\n",
       "       [0.47129209, 0.52870791],\n",
       "       [0.78163061, 0.21836939],\n",
       "       [0.46494772, 0.53505228],\n",
       "       [0.77855256, 0.22144744],\n",
       "       [0.26326831, 0.73673169],\n",
       "       [0.59499242, 0.40500758],\n",
       "       [0.39495703, 0.60504297],\n",
       "       [0.78927881, 0.21072119],\n",
       "       [0.54772892, 0.45227108],\n",
       "       [0.76250674, 0.23749326],\n",
       "       [0.60152822, 0.39847178],\n",
       "       [0.17236423, 0.82763577],\n",
       "       [0.43228078, 0.56771922],\n",
       "       [0.30879153, 0.69120847],\n",
       "       [0.71342516, 0.28657484],\n",
       "       [0.7807653 , 0.2192347 ],\n",
       "       [0.7967288 , 0.2032712 ],\n",
       "       [0.42365518, 0.57634482],\n",
       "       [0.67045762, 0.32954238],\n",
       "       [0.3348226 , 0.6651774 ],\n",
       "       [0.73062472, 0.26937528],\n",
       "       [0.16676318, 0.83323682],\n",
       "       [0.56515855, 0.43484145],\n",
       "       [0.11634129, 0.88365871],\n",
       "       [0.76874913, 0.23125087],\n",
       "       [0.66566251, 0.33433749],\n",
       "       [0.65548603, 0.34451397],\n",
       "       [0.30084899, 0.69915101],\n",
       "       [0.3450062 , 0.6549938 ],\n",
       "       [0.70755417, 0.29244583],\n",
       "       [0.20813948, 0.79186052],\n",
       "       [0.79247768, 0.20752232],\n",
       "       [0.73161991, 0.26838009],\n",
       "       [0.91289589, 0.08710411],\n",
       "       [0.77855256, 0.22144744],\n",
       "       [0.26784781, 0.73215219],\n",
       "       [0.69463474, 0.30536526],\n",
       "       [0.77855256, 0.22144744],\n",
       "       [0.7099211 , 0.2900789 ],\n",
       "       [0.09556159, 0.90443841],\n",
       "       [0.53934229, 0.46065771],\n",
       "       [0.39824649, 0.60175351],\n",
       "       [0.78163061, 0.21836939],\n",
       "       [0.22662722, 0.77337278],\n",
       "       [0.26823402, 0.73176598],\n",
       "       [0.25833667, 0.74166333],\n",
       "       [0.32849848, 0.67150152],\n",
       "       [0.75418947, 0.24581053],\n",
       "       [0.92381866, 0.07618134],\n",
       "       [0.76874913, 0.23125087],\n",
       "       [0.24733029, 0.75266971],\n",
       "       [0.56565144, 0.43434856],\n",
       "       [0.87778155, 0.12221845],\n",
       "       [0.29566831, 0.70433169],\n",
       "       [0.42028246, 0.57971754],\n",
       "       [0.75875643, 0.24124357],\n",
       "       [0.32086805, 0.67913195],\n",
       "       [0.82487741, 0.17512259],\n",
       "       [0.84951629, 0.15048371],\n",
       "       [0.77378438, 0.22621562],\n",
       "       [0.73161991, 0.26838009],\n",
       "       [0.74906578, 0.25093422],\n",
       "       [0.14943734, 0.85056266],\n",
       "       [0.70405613, 0.29594387],\n",
       "       [0.23705541, 0.76294459],\n",
       "       [0.75656954, 0.24343046],\n",
       "       [0.78200879, 0.21799121],\n",
       "       [0.37670539, 0.62329461],\n",
       "       [0.32086805, 0.67913195],\n",
       "       [0.304135  , 0.695865  ],\n",
       "       [0.2553639 , 0.7446361 ],\n",
       "       [0.55059739, 0.44940261],\n",
       "       [0.51672278, 0.48327722],\n",
       "       [0.72261444, 0.27738556],\n",
       "       [0.14943734, 0.85056266],\n",
       "       [0.22198621, 0.77801379],\n",
       "       [0.85522723, 0.14477277],\n",
       "       [0.92996672, 0.07003328],\n",
       "       [0.09636737, 0.90363263],\n",
       "       [0.33765461, 0.66234539],\n",
       "       [0.66164438, 0.33835562],\n",
       "       [0.47625539, 0.52374461],\n",
       "       [0.43906333, 0.56093667],\n",
       "       [0.21393162, 0.78606838],\n",
       "       [0.17775756, 0.82224244],\n",
       "       [0.45798963, 0.54201037],\n",
       "       [0.69069185, 0.30930815],\n",
       "       [0.74043803, 0.25956197],\n",
       "       [0.83941218, 0.16058782],\n",
       "       [0.1878305 , 0.8121695 ],\n",
       "       [0.54772892, 0.45227108],\n",
       "       [0.78163061, 0.21836939],\n",
       "       [0.64449547, 0.35550453],\n",
       "       [0.78927881, 0.21072119],\n",
       "       [0.89031167, 0.10968833],\n",
       "       [0.25930781, 0.74069219],\n",
       "       [0.70030387, 0.29969613],\n",
       "       [0.38416378, 0.61583622],\n",
       "       [0.78927881, 0.21072119],\n",
       "       [0.70405613, 0.29594387],\n",
       "       [0.64449547, 0.35550453],\n",
       "       [0.73491482, 0.26508518],\n",
       "       [0.47625539, 0.52374461],\n",
       "       [0.53926379, 0.46073621],\n",
       "       [0.6849227 , 0.3150773 ],\n",
       "       [0.75656954, 0.24343046],\n",
       "       [0.53934229, 0.46065771]])"
      ]
     },
     "execution_count": 83,
     "metadata": {},
     "output_type": "execute_result"
    }
   ],
   "source": [
    "predicted_proba = reg.predict_proba(x_test)\n",
    "predicted_proba"
   ]
  },
  {
   "cell_type": "markdown",
   "metadata": {},
   "source": [
    "### Logistic Regression Model Performance Summary\n",
    "Training Accuracy (x_train):\n",
    "The model achieved an accuracy of approximately 0.77, meaning it correctly classified 77% of training examples. This suggests that the model has learned meaningful patterns from the data.\n",
    "\n",
    "### Testing Accuracy (x_test, y_test):\n",
    "Using reg.score(x_test, y_test), the test set accuracy is approximately 0.75, indicating that 75% of unseen data points were correctly classified. This is a strong indication of generalization ability with only minimal overfitting (a drop of just 0.02 from training accuracy).\n",
    "\n",
    "### Interpretation\n",
    "The close match between training and testing accuracy shows that the model generalizes well.\n",
    "\n",
    "The 0.75 testing accuracy is reasonable for a real-world classification task like absenteeism prediction, where data often contains noise and behavioral variance.\n",
    "\n",
    "This result supports the model’s use for risk flagging, policy adjustment, or employee support targeting in HR contexts."
   ]
  },
  {
   "cell_type": "markdown",
   "metadata": {},
   "source": [
    "## Save the model"
   ]
  },
  {
   "cell_type": "code",
   "execution_count": 84,
   "metadata": {},
   "outputs": [],
   "source": [
    "import pickle"
   ]
  },
  {
   "cell_type": "code",
   "execution_count": 85,
   "metadata": {},
   "outputs": [],
   "source": [
    "with open('model', 'wb') as file:\n",
    "    pickle.dump(reg, file)"
   ]
  },
  {
   "cell_type": "code",
   "execution_count": 86,
   "metadata": {},
   "outputs": [],
   "source": [
    "with open('scaler','wb') as file:\n",
    "    pickle.dump(absenteeism_scaler, file)"
   ]
  }
 ],
 "metadata": {
  "kernelspec": {
   "display_name": "base",
   "language": "python",
   "name": "python3"
  },
  "language_info": {
   "codemirror_mode": {
    "name": "ipython",
    "version": 3
   },
   "file_extension": ".py",
   "mimetype": "text/x-python",
   "name": "python",
   "nbconvert_exporter": "python",
   "pygments_lexer": "ipython3",
   "version": "3.12.7"
  }
 },
 "nbformat": 4,
 "nbformat_minor": 2
}
